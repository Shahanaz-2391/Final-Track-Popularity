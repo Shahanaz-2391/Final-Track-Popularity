{
 "cells": [
  {
   "cell_type": "markdown",
   "metadata": {
    "id": "UB3YVa3N8Xnc"
   },
   "source": [
    "# **Track Popularity Prediction**"
   ]
  },
  {
   "cell_type": "markdown",
   "metadata": {
    "id": "vpukJL7kj6GD"
   },
   "source": [
    "## **1.IMPORT LIBRARIES**"
   ]
  },
  {
   "cell_type": "code",
   "execution_count": 2,
   "metadata": {
    "colab": {
     "base_uri": "https://localhost:8080/"
    },
    "id": "Ih99TOenjOwf",
    "outputId": "3368d4c0-c8ef-49c7-850a-e915665ec300"
   },
   "outputs": [
    {
     "name": "stdout",
     "output_type": "stream",
     "text": [
      "Requirement already satisfied: pandas in c:\\users\\shaha\\appdata\\local\\programs\\python\\python312\\lib\\site-packages (2.1.4)"
     ]
    },
    {
     "name": "stderr",
     "output_type": "stream",
     "text": [
      "\n",
      "[notice] A new release of pip is available: 23.2.1 -> 24.2\n",
      "[notice] To update, run: python.exe -m pip install --upgrade pip\n"
     ]
    },
    {
     "name": "stdout",
     "output_type": "stream",
     "text": [
      "\n",
      "Requirement already satisfied: pyarrow in c:\\users\\shaha\\appdata\\local\\programs\\python\\python312\\lib\\site-packages (14.0.2)\n",
      "Requirement already satisfied: numpy<2,>=1.26.0 in c:\\users\\shaha\\appdata\\local\\programs\\python\\python312\\lib\\site-packages (from pandas) (1.26.2)\n",
      "Requirement already satisfied: python-dateutil>=2.8.2 in c:\\users\\shaha\\appdata\\local\\programs\\python\\python312\\lib\\site-packages (from pandas) (2.8.2)\n",
      "Requirement already satisfied: pytz>=2020.1 in c:\\users\\shaha\\appdata\\local\\programs\\python\\python312\\lib\\site-packages (from pandas) (2023.3.post1)\n",
      "Requirement already satisfied: tzdata>=2022.1 in c:\\users\\shaha\\appdata\\local\\programs\\python\\python312\\lib\\site-packages (from pandas) (2023.3)\n",
      "Requirement already satisfied: six>=1.5 in c:\\users\\shaha\\appdata\\local\\programs\\python\\python312\\lib\\site-packages (from python-dateutil>=2.8.2->pandas) (1.16.0)\n"
     ]
    }
   ],
   "source": [
    "!pip install pandas pyarrow"
   ]
  },
  {
   "cell_type": "code",
   "execution_count": 3,
   "metadata": {
    "colab": {
     "base_uri": "https://localhost:8080/"
    },
    "id": "oc0_YOtPkYLm",
    "outputId": "fbb87400-4abb-4777-b710-ba3d6d2d08f2"
   },
   "outputs": [
    {
     "name": "stderr",
     "output_type": "stream",
     "text": [
      "ERROR: Could not find a version that satisfies the requirement magic (from versions: none)\n",
      "ERROR: No matching distribution found for magic\n",
      "\n",
      "[notice] A new release of pip is available: 23.2.1 -> 24.2\n",
      "[notice] To update, run: python.exe -m pip install --upgrade pip\n"
     ]
    }
   ],
   "source": [
    "!pip install magic"
   ]
  },
  {
   "cell_type": "code",
   "execution_count": 4,
   "metadata": {
    "id": "jlRMGM3FkkFK"
   },
   "outputs": [],
   "source": [
    "# Import necessary libraries\n",
    "import warnings\n",
    "import numpy as np\n",
    "import pandas as pd\n",
    "import matplotlib.pyplot as plt\n",
    "import seaborn as sns\n",
    "from sklearn import preprocessing\n",
    "from scipy.spatial import distance\n"
   ]
  },
  {
   "cell_type": "code",
   "execution_count": 5,
   "metadata": {
    "colab": {
     "base_uri": "https://localhost:8080/",
     "height": 394
    },
    "id": "okblgb0pGqPj",
    "outputId": "9152963c-697d-49c9-8eea-1a41a0d3dbb7"
   },
   "outputs": [
    {
     "data": {
      "text/html": [
       "<div>\n",
       "<style scoped>\n",
       "    .dataframe tbody tr th:only-of-type {\n",
       "        vertical-align: middle;\n",
       "    }\n",
       "\n",
       "    .dataframe tbody tr th {\n",
       "        vertical-align: top;\n",
       "    }\n",
       "\n",
       "    .dataframe thead th {\n",
       "        text-align: right;\n",
       "    }\n",
       "</style>\n",
       "<table border=\"1\" class=\"dataframe\">\n",
       "  <thead>\n",
       "    <tr style=\"text-align: right;\">\n",
       "      <th></th>\n",
       "      <th>Unnamed: 0</th>\n",
       "      <th>track_id</th>\n",
       "      <th>artists</th>\n",
       "      <th>album_name</th>\n",
       "      <th>track_name</th>\n",
       "      <th>popularity</th>\n",
       "      <th>duration_ms</th>\n",
       "      <th>explicit</th>\n",
       "      <th>danceability</th>\n",
       "      <th>energy</th>\n",
       "      <th>...</th>\n",
       "      <th>loudness</th>\n",
       "      <th>mode</th>\n",
       "      <th>speechiness</th>\n",
       "      <th>acousticness</th>\n",
       "      <th>instrumentalness</th>\n",
       "      <th>liveness</th>\n",
       "      <th>valence</th>\n",
       "      <th>tempo</th>\n",
       "      <th>time_signature</th>\n",
       "      <th>track_genre</th>\n",
       "    </tr>\n",
       "  </thead>\n",
       "  <tbody>\n",
       "    <tr>\n",
       "      <th>0</th>\n",
       "      <td>0</td>\n",
       "      <td>5SuOikwiRyPMVoIQDJUgSV</td>\n",
       "      <td>Gen Hoshino</td>\n",
       "      <td>Comedy</td>\n",
       "      <td>Comedy</td>\n",
       "      <td>73</td>\n",
       "      <td>230666</td>\n",
       "      <td>False</td>\n",
       "      <td>0.676</td>\n",
       "      <td>0.4610</td>\n",
       "      <td>...</td>\n",
       "      <td>-6.746</td>\n",
       "      <td>0</td>\n",
       "      <td>0.1430</td>\n",
       "      <td>0.0322</td>\n",
       "      <td>0.000001</td>\n",
       "      <td>0.3580</td>\n",
       "      <td>0.715</td>\n",
       "      <td>87.917</td>\n",
       "      <td>4</td>\n",
       "      <td>acoustic</td>\n",
       "    </tr>\n",
       "    <tr>\n",
       "      <th>1</th>\n",
       "      <td>1</td>\n",
       "      <td>4qPNDBW1i3p13qLCt0Ki3A</td>\n",
       "      <td>Ben Woodward</td>\n",
       "      <td>Ghost (Acoustic)</td>\n",
       "      <td>Ghost - Acoustic</td>\n",
       "      <td>55</td>\n",
       "      <td>149610</td>\n",
       "      <td>False</td>\n",
       "      <td>0.420</td>\n",
       "      <td>0.1660</td>\n",
       "      <td>...</td>\n",
       "      <td>-17.235</td>\n",
       "      <td>1</td>\n",
       "      <td>0.0763</td>\n",
       "      <td>0.9240</td>\n",
       "      <td>0.000006</td>\n",
       "      <td>0.1010</td>\n",
       "      <td>0.267</td>\n",
       "      <td>77.489</td>\n",
       "      <td>4</td>\n",
       "      <td>acoustic</td>\n",
       "    </tr>\n",
       "    <tr>\n",
       "      <th>2</th>\n",
       "      <td>2</td>\n",
       "      <td>1iJBSr7s7jYXzM8EGcbK5b</td>\n",
       "      <td>Ingrid Michaelson;ZAYN</td>\n",
       "      <td>To Begin Again</td>\n",
       "      <td>To Begin Again</td>\n",
       "      <td>57</td>\n",
       "      <td>210826</td>\n",
       "      <td>False</td>\n",
       "      <td>0.438</td>\n",
       "      <td>0.3590</td>\n",
       "      <td>...</td>\n",
       "      <td>-9.734</td>\n",
       "      <td>1</td>\n",
       "      <td>0.0557</td>\n",
       "      <td>0.2100</td>\n",
       "      <td>0.000000</td>\n",
       "      <td>0.1170</td>\n",
       "      <td>0.120</td>\n",
       "      <td>76.332</td>\n",
       "      <td>4</td>\n",
       "      <td>acoustic</td>\n",
       "    </tr>\n",
       "    <tr>\n",
       "      <th>3</th>\n",
       "      <td>3</td>\n",
       "      <td>6lfxq3CG4xtTiEg7opyCyx</td>\n",
       "      <td>Kina Grannis</td>\n",
       "      <td>Crazy Rich Asians (Original Motion Picture Sou...</td>\n",
       "      <td>Can't Help Falling In Love</td>\n",
       "      <td>71</td>\n",
       "      <td>201933</td>\n",
       "      <td>False</td>\n",
       "      <td>0.266</td>\n",
       "      <td>0.0596</td>\n",
       "      <td>...</td>\n",
       "      <td>-18.515</td>\n",
       "      <td>1</td>\n",
       "      <td>0.0363</td>\n",
       "      <td>0.9050</td>\n",
       "      <td>0.000071</td>\n",
       "      <td>0.1320</td>\n",
       "      <td>0.143</td>\n",
       "      <td>181.740</td>\n",
       "      <td>3</td>\n",
       "      <td>acoustic</td>\n",
       "    </tr>\n",
       "    <tr>\n",
       "      <th>4</th>\n",
       "      <td>4</td>\n",
       "      <td>5vjLSffimiIP26QG5WcN2K</td>\n",
       "      <td>Chord Overstreet</td>\n",
       "      <td>Hold On</td>\n",
       "      <td>Hold On</td>\n",
       "      <td>82</td>\n",
       "      <td>198853</td>\n",
       "      <td>False</td>\n",
       "      <td>0.618</td>\n",
       "      <td>0.4430</td>\n",
       "      <td>...</td>\n",
       "      <td>-9.681</td>\n",
       "      <td>1</td>\n",
       "      <td>0.0526</td>\n",
       "      <td>0.4690</td>\n",
       "      <td>0.000000</td>\n",
       "      <td>0.0829</td>\n",
       "      <td>0.167</td>\n",
       "      <td>119.949</td>\n",
       "      <td>4</td>\n",
       "      <td>acoustic</td>\n",
       "    </tr>\n",
       "  </tbody>\n",
       "</table>\n",
       "<p>5 rows × 21 columns</p>\n",
       "</div>"
      ],
      "text/plain": [
       "   Unnamed: 0                track_id                 artists  \\\n",
       "0           0  5SuOikwiRyPMVoIQDJUgSV             Gen Hoshino   \n",
       "1           1  4qPNDBW1i3p13qLCt0Ki3A            Ben Woodward   \n",
       "2           2  1iJBSr7s7jYXzM8EGcbK5b  Ingrid Michaelson;ZAYN   \n",
       "3           3  6lfxq3CG4xtTiEg7opyCyx            Kina Grannis   \n",
       "4           4  5vjLSffimiIP26QG5WcN2K        Chord Overstreet   \n",
       "\n",
       "                                          album_name  \\\n",
       "0                                             Comedy   \n",
       "1                                   Ghost (Acoustic)   \n",
       "2                                     To Begin Again   \n",
       "3  Crazy Rich Asians (Original Motion Picture Sou...   \n",
       "4                                            Hold On   \n",
       "\n",
       "                   track_name  popularity  duration_ms  explicit  \\\n",
       "0                      Comedy          73       230666     False   \n",
       "1            Ghost - Acoustic          55       149610     False   \n",
       "2              To Begin Again          57       210826     False   \n",
       "3  Can't Help Falling In Love          71       201933     False   \n",
       "4                     Hold On          82       198853     False   \n",
       "\n",
       "   danceability  energy  ...  loudness  mode  speechiness  acousticness  \\\n",
       "0         0.676  0.4610  ...    -6.746     0       0.1430        0.0322   \n",
       "1         0.420  0.1660  ...   -17.235     1       0.0763        0.9240   \n",
       "2         0.438  0.3590  ...    -9.734     1       0.0557        0.2100   \n",
       "3         0.266  0.0596  ...   -18.515     1       0.0363        0.9050   \n",
       "4         0.618  0.4430  ...    -9.681     1       0.0526        0.4690   \n",
       "\n",
       "   instrumentalness  liveness  valence    tempo  time_signature  track_genre  \n",
       "0          0.000001    0.3580    0.715   87.917               4     acoustic  \n",
       "1          0.000006    0.1010    0.267   77.489               4     acoustic  \n",
       "2          0.000000    0.1170    0.120   76.332               4     acoustic  \n",
       "3          0.000071    0.1320    0.143  181.740               3     acoustic  \n",
       "4          0.000000    0.0829    0.167  119.949               4     acoustic  \n",
       "\n",
       "[5 rows x 21 columns]"
      ]
     },
     "execution_count": 5,
     "metadata": {},
     "output_type": "execute_result"
    }
   ],
   "source": [
    "import pyarrow.parquet as pq\n",
    "\n",
    "file_path_1 = 'D:\\\\GUVI\\\\Shahanaz - Final Project\\\\DATA\\\\Data.parquet'  # Path to the parquet file containing the data\n",
    "table_1 = pq.read_table(file_path_1)  # Read the parquet file into a PyArrow Table object\n",
    "df_parquet = table_1.to_pandas()  # Convert the PyArrow Table into a pandas DataFrame for easier manipulation\n",
    "\n",
    "# Display the first few rows of the dataframe\n",
    "df_parquet.head()"
   ]
  },
  {
   "cell_type": "code",
   "execution_count": 6,
   "metadata": {
    "colab": {
     "base_uri": "https://localhost:8080/"
    },
    "id": "5JHHf4zMoDJy",
    "outputId": "b11e05d4-db9a-4fe9-ba7a-72e553bf0b0a"
   },
   "outputs": [
    {
     "name": "stdout",
     "output_type": "stream",
     "text": [
      "DataFrame saved to D:\\GUVI\\Shahanaz - Final Project\\DATA\\Data.csv\n"
     ]
    }
   ],
   "source": [
    "# Define the path where the Excel file will be saved\n",
    "csv_file_path = 'D:\\\\GUVI\\\\Shahanaz - Final Project\\\\DATA\\\\Data.csv'\n",
    "\n",
    "# Save the DataFrame to an Excel file\n",
    "df_parquet.to_csv(csv_file_path, index=False)\n",
    "\n",
    "print(f\"DataFrame saved to {csv_file_path}\")\n"
   ]
  },
  {
   "cell_type": "markdown",
   "metadata": {
    "id": "ZFu6CQcJzdVE"
   },
   "source": [
    "## **2.DATA EXPLORATION**"
   ]
  },
  {
   "cell_type": "code",
   "execution_count": 7,
   "metadata": {
    "colab": {
     "base_uri": "https://localhost:8080/"
    },
    "id": "aE2cYpuPznv1",
    "outputId": "53734204-ddf5-49f1-eb3a-e3a391e27bfd"
   },
   "outputs": [
    {
     "name": "stdout",
     "output_type": "stream",
     "text": [
      "(114000, 21)\n"
     ]
    }
   ],
   "source": [
    "file_path = 'D:\\\\GUVI\\\\Shahanaz - Final Project\\\\DATA\\\\Data.csv'\n",
    "audio_df = pd.read_csv(file_path)\n",
    "print(audio_df.shape)"
   ]
  },
  {
   "cell_type": "code",
   "execution_count": 8,
   "metadata": {
    "colab": {
     "base_uri": "https://localhost:8080/",
     "height": 742
    },
    "id": "BFWgm1iqznyO",
    "outputId": "429eafd9-bdd1-401c-ffae-7f07a763c73f"
   },
   "outputs": [
    {
     "data": {
      "text/plain": [
       "Unnamed: 0            int64\n",
       "track_id             object\n",
       "artists              object\n",
       "album_name           object\n",
       "track_name           object\n",
       "popularity            int64\n",
       "duration_ms           int64\n",
       "explicit               bool\n",
       "danceability        float64\n",
       "energy              float64\n",
       "key                   int64\n",
       "loudness            float64\n",
       "mode                  int64\n",
       "speechiness         float64\n",
       "acousticness        float64\n",
       "instrumentalness    float64\n",
       "liveness            float64\n",
       "valence             float64\n",
       "tempo               float64\n",
       "time_signature        int64\n",
       "track_genre          object\n",
       "dtype: object"
      ]
     },
     "execution_count": 8,
     "metadata": {},
     "output_type": "execute_result"
    }
   ],
   "source": [
    "audio_df.dtypes"
   ]
  },
  {
   "cell_type": "code",
   "execution_count": 9,
   "metadata": {
    "colab": {
     "base_uri": "https://localhost:8080/",
     "height": 394
    },
    "id": "MPYH2NI1zn01",
    "outputId": "4b6c555c-a58d-4a9f-a9d4-42f5b50a9a98"
   },
   "outputs": [
    {
     "data": {
      "text/html": [
       "<div>\n",
       "<style scoped>\n",
       "    .dataframe tbody tr th:only-of-type {\n",
       "        vertical-align: middle;\n",
       "    }\n",
       "\n",
       "    .dataframe tbody tr th {\n",
       "        vertical-align: top;\n",
       "    }\n",
       "\n",
       "    .dataframe thead th {\n",
       "        text-align: right;\n",
       "    }\n",
       "</style>\n",
       "<table border=\"1\" class=\"dataframe\">\n",
       "  <thead>\n",
       "    <tr style=\"text-align: right;\">\n",
       "      <th></th>\n",
       "      <th>Unnamed: 0</th>\n",
       "      <th>track_id</th>\n",
       "      <th>artists</th>\n",
       "      <th>album_name</th>\n",
       "      <th>track_name</th>\n",
       "      <th>popularity</th>\n",
       "      <th>duration_ms</th>\n",
       "      <th>explicit</th>\n",
       "      <th>danceability</th>\n",
       "      <th>energy</th>\n",
       "      <th>...</th>\n",
       "      <th>loudness</th>\n",
       "      <th>mode</th>\n",
       "      <th>speechiness</th>\n",
       "      <th>acousticness</th>\n",
       "      <th>instrumentalness</th>\n",
       "      <th>liveness</th>\n",
       "      <th>valence</th>\n",
       "      <th>tempo</th>\n",
       "      <th>time_signature</th>\n",
       "      <th>track_genre</th>\n",
       "    </tr>\n",
       "  </thead>\n",
       "  <tbody>\n",
       "    <tr>\n",
       "      <th>0</th>\n",
       "      <td>0</td>\n",
       "      <td>5SuOikwiRyPMVoIQDJUgSV</td>\n",
       "      <td>Gen Hoshino</td>\n",
       "      <td>Comedy</td>\n",
       "      <td>Comedy</td>\n",
       "      <td>73</td>\n",
       "      <td>230666</td>\n",
       "      <td>False</td>\n",
       "      <td>0.676</td>\n",
       "      <td>0.4610</td>\n",
       "      <td>...</td>\n",
       "      <td>-6.746</td>\n",
       "      <td>0</td>\n",
       "      <td>0.1430</td>\n",
       "      <td>0.0322</td>\n",
       "      <td>0.000001</td>\n",
       "      <td>0.3580</td>\n",
       "      <td>0.715</td>\n",
       "      <td>87.917</td>\n",
       "      <td>4</td>\n",
       "      <td>acoustic</td>\n",
       "    </tr>\n",
       "    <tr>\n",
       "      <th>1</th>\n",
       "      <td>1</td>\n",
       "      <td>4qPNDBW1i3p13qLCt0Ki3A</td>\n",
       "      <td>Ben Woodward</td>\n",
       "      <td>Ghost (Acoustic)</td>\n",
       "      <td>Ghost - Acoustic</td>\n",
       "      <td>55</td>\n",
       "      <td>149610</td>\n",
       "      <td>False</td>\n",
       "      <td>0.420</td>\n",
       "      <td>0.1660</td>\n",
       "      <td>...</td>\n",
       "      <td>-17.235</td>\n",
       "      <td>1</td>\n",
       "      <td>0.0763</td>\n",
       "      <td>0.9240</td>\n",
       "      <td>0.000006</td>\n",
       "      <td>0.1010</td>\n",
       "      <td>0.267</td>\n",
       "      <td>77.489</td>\n",
       "      <td>4</td>\n",
       "      <td>acoustic</td>\n",
       "    </tr>\n",
       "    <tr>\n",
       "      <th>2</th>\n",
       "      <td>2</td>\n",
       "      <td>1iJBSr7s7jYXzM8EGcbK5b</td>\n",
       "      <td>Ingrid Michaelson;ZAYN</td>\n",
       "      <td>To Begin Again</td>\n",
       "      <td>To Begin Again</td>\n",
       "      <td>57</td>\n",
       "      <td>210826</td>\n",
       "      <td>False</td>\n",
       "      <td>0.438</td>\n",
       "      <td>0.3590</td>\n",
       "      <td>...</td>\n",
       "      <td>-9.734</td>\n",
       "      <td>1</td>\n",
       "      <td>0.0557</td>\n",
       "      <td>0.2100</td>\n",
       "      <td>0.000000</td>\n",
       "      <td>0.1170</td>\n",
       "      <td>0.120</td>\n",
       "      <td>76.332</td>\n",
       "      <td>4</td>\n",
       "      <td>acoustic</td>\n",
       "    </tr>\n",
       "    <tr>\n",
       "      <th>3</th>\n",
       "      <td>3</td>\n",
       "      <td>6lfxq3CG4xtTiEg7opyCyx</td>\n",
       "      <td>Kina Grannis</td>\n",
       "      <td>Crazy Rich Asians (Original Motion Picture Sou...</td>\n",
       "      <td>Can't Help Falling In Love</td>\n",
       "      <td>71</td>\n",
       "      <td>201933</td>\n",
       "      <td>False</td>\n",
       "      <td>0.266</td>\n",
       "      <td>0.0596</td>\n",
       "      <td>...</td>\n",
       "      <td>-18.515</td>\n",
       "      <td>1</td>\n",
       "      <td>0.0363</td>\n",
       "      <td>0.9050</td>\n",
       "      <td>0.000071</td>\n",
       "      <td>0.1320</td>\n",
       "      <td>0.143</td>\n",
       "      <td>181.740</td>\n",
       "      <td>3</td>\n",
       "      <td>acoustic</td>\n",
       "    </tr>\n",
       "    <tr>\n",
       "      <th>4</th>\n",
       "      <td>4</td>\n",
       "      <td>5vjLSffimiIP26QG5WcN2K</td>\n",
       "      <td>Chord Overstreet</td>\n",
       "      <td>Hold On</td>\n",
       "      <td>Hold On</td>\n",
       "      <td>82</td>\n",
       "      <td>198853</td>\n",
       "      <td>False</td>\n",
       "      <td>0.618</td>\n",
       "      <td>0.4430</td>\n",
       "      <td>...</td>\n",
       "      <td>-9.681</td>\n",
       "      <td>1</td>\n",
       "      <td>0.0526</td>\n",
       "      <td>0.4690</td>\n",
       "      <td>0.000000</td>\n",
       "      <td>0.0829</td>\n",
       "      <td>0.167</td>\n",
       "      <td>119.949</td>\n",
       "      <td>4</td>\n",
       "      <td>acoustic</td>\n",
       "    </tr>\n",
       "  </tbody>\n",
       "</table>\n",
       "<p>5 rows × 21 columns</p>\n",
       "</div>"
      ],
      "text/plain": [
       "   Unnamed: 0                track_id                 artists  \\\n",
       "0           0  5SuOikwiRyPMVoIQDJUgSV             Gen Hoshino   \n",
       "1           1  4qPNDBW1i3p13qLCt0Ki3A            Ben Woodward   \n",
       "2           2  1iJBSr7s7jYXzM8EGcbK5b  Ingrid Michaelson;ZAYN   \n",
       "3           3  6lfxq3CG4xtTiEg7opyCyx            Kina Grannis   \n",
       "4           4  5vjLSffimiIP26QG5WcN2K        Chord Overstreet   \n",
       "\n",
       "                                          album_name  \\\n",
       "0                                             Comedy   \n",
       "1                                   Ghost (Acoustic)   \n",
       "2                                     To Begin Again   \n",
       "3  Crazy Rich Asians (Original Motion Picture Sou...   \n",
       "4                                            Hold On   \n",
       "\n",
       "                   track_name  popularity  duration_ms  explicit  \\\n",
       "0                      Comedy          73       230666     False   \n",
       "1            Ghost - Acoustic          55       149610     False   \n",
       "2              To Begin Again          57       210826     False   \n",
       "3  Can't Help Falling In Love          71       201933     False   \n",
       "4                     Hold On          82       198853     False   \n",
       "\n",
       "   danceability  energy  ...  loudness  mode  speechiness  acousticness  \\\n",
       "0         0.676  0.4610  ...    -6.746     0       0.1430        0.0322   \n",
       "1         0.420  0.1660  ...   -17.235     1       0.0763        0.9240   \n",
       "2         0.438  0.3590  ...    -9.734     1       0.0557        0.2100   \n",
       "3         0.266  0.0596  ...   -18.515     1       0.0363        0.9050   \n",
       "4         0.618  0.4430  ...    -9.681     1       0.0526        0.4690   \n",
       "\n",
       "   instrumentalness  liveness  valence    tempo  time_signature  track_genre  \n",
       "0          0.000001    0.3580    0.715   87.917               4     acoustic  \n",
       "1          0.000006    0.1010    0.267   77.489               4     acoustic  \n",
       "2          0.000000    0.1170    0.120   76.332               4     acoustic  \n",
       "3          0.000071    0.1320    0.143  181.740               3     acoustic  \n",
       "4          0.000000    0.0829    0.167  119.949               4     acoustic  \n",
       "\n",
       "[5 rows x 21 columns]"
      ]
     },
     "execution_count": 9,
     "metadata": {},
     "output_type": "execute_result"
    }
   ],
   "source": [
    "audio_df.head()"
   ]
  },
  {
   "cell_type": "code",
   "execution_count": 10,
   "metadata": {
    "colab": {
     "base_uri": "https://localhost:8080/",
     "height": 742
    },
    "id": "37YAO-471P2I",
    "outputId": "3b11a8a2-f21b-4236-ec01-f7e73461cccd"
   },
   "outputs": [
    {
     "data": {
      "text/plain": [
       "Unnamed: 0          0\n",
       "track_id            0\n",
       "artists             1\n",
       "album_name          1\n",
       "track_name          1\n",
       "popularity          0\n",
       "duration_ms         0\n",
       "explicit            0\n",
       "danceability        0\n",
       "energy              0\n",
       "key                 0\n",
       "loudness            0\n",
       "mode                0\n",
       "speechiness         0\n",
       "acousticness        0\n",
       "instrumentalness    0\n",
       "liveness            0\n",
       "valence             0\n",
       "tempo               0\n",
       "time_signature      0\n",
       "track_genre         0\n",
       "dtype: int64"
      ]
     },
     "execution_count": 10,
     "metadata": {},
     "output_type": "execute_result"
    }
   ],
   "source": [
    "audio_df.isnull().sum()"
   ]
  },
  {
   "cell_type": "code",
   "execution_count": 11,
   "metadata": {
    "colab": {
     "base_uri": "https://localhost:8080/"
    },
    "id": "C6sBU8a21P4p",
    "outputId": "295f620f-aaa5-49f0-e206-8239cfbcf653"
   },
   "outputs": [
    {
     "name": "stdout",
     "output_type": "stream",
     "text": [
      "<class 'pandas.core.frame.DataFrame'>\n",
      "Index: 113999 entries, 0 to 113999\n",
      "Data columns (total 21 columns):\n",
      " #   Column            Non-Null Count   Dtype  \n",
      "---  ------            --------------   -----  \n",
      " 0   Unnamed: 0        113999 non-null  int64  \n",
      " 1   track_id          113999 non-null  object \n",
      " 2   artists           113999 non-null  object \n",
      " 3   album_name        113999 non-null  object \n",
      " 4   track_name        113999 non-null  object \n",
      " 5   popularity        113999 non-null  int64  \n",
      " 6   duration_ms       113999 non-null  int64  \n",
      " 7   explicit          113999 non-null  bool   \n",
      " 8   danceability      113999 non-null  float64\n",
      " 9   energy            113999 non-null  float64\n",
      " 10  key               113999 non-null  int64  \n",
      " 11  loudness          113999 non-null  float64\n",
      " 12  mode              113999 non-null  int64  \n",
      " 13  speechiness       113999 non-null  float64\n",
      " 14  acousticness      113999 non-null  float64\n",
      " 15  instrumentalness  113999 non-null  float64\n",
      " 16  liveness          113999 non-null  float64\n",
      " 17  valence           113999 non-null  float64\n",
      " 18  tempo             113999 non-null  float64\n",
      " 19  time_signature    113999 non-null  int64  \n",
      " 20  track_genre       113999 non-null  object \n",
      "dtypes: bool(1), float64(9), int64(6), object(5)\n",
      "memory usage: 18.4+ MB\n"
     ]
    }
   ],
   "source": [
    "#Remove the NaN values from the dataset\n",
    "audio_df.isnull().sum()\n",
    "audio_df.dropna(how='any',inplace=True)\n",
    "audio_df.info() #.info() function is used to get a concise summary of the dataframe"
   ]
  },
  {
   "cell_type": "code",
   "execution_count": 12,
   "metadata": {
    "colab": {
     "base_uri": "https://localhost:8080/"
    },
    "id": "vLpv1qMn1P7O",
    "outputId": "1754f19c-9041-4b56-8db9-66758fb0aff7"
   },
   "outputs": [
    {
     "data": {
      "text/plain": [
       "Index(['Unnamed: 0', 'track_id', 'artists', 'album_name', 'track_name',\n",
       "       'popularity', 'duration_ms', 'explicit', 'danceability', 'energy',\n",
       "       'key', 'loudness', 'mode', 'speechiness', 'acousticness',\n",
       "       'instrumentalness', 'liveness', 'valence', 'tempo', 'time_signature',\n",
       "       'track_genre'],\n",
       "      dtype='object')"
      ]
     },
     "execution_count": 12,
     "metadata": {},
     "output_type": "execute_result"
    }
   ],
   "source": [
    "audio_df.columns"
   ]
  },
  {
   "cell_type": "code",
   "execution_count": 13,
   "metadata": {
    "colab": {
     "base_uri": "https://localhost:8080/"
    },
    "id": "5atJyNfv3m38",
    "outputId": "90f9f722-767a-430d-9355-b1cf75ef5bb0"
   },
   "outputs": [
    {
     "data": {
      "text/plain": [
       "array(['acoustic', 'afrobeat', 'alt-rock', 'alternative', 'ambient',\n",
       "       'anime', 'black-metal', 'bluegrass', 'blues', 'brazil',\n",
       "       'breakbeat', 'british', 'cantopop', 'chicago-house', 'children',\n",
       "       'chill', 'classical', 'club', 'comedy', 'country', 'dance',\n",
       "       'dancehall', 'death-metal', 'deep-house', 'detroit-techno',\n",
       "       'disco', 'disney', 'drum-and-bass', 'dub', 'dubstep', 'edm',\n",
       "       'electro', 'electronic', 'emo', 'folk', 'forro', 'french', 'funk',\n",
       "       'garage', 'german', 'gospel', 'goth', 'grindcore', 'groove',\n",
       "       'grunge', 'guitar', 'happy', 'hard-rock', 'hardcore', 'hardstyle',\n",
       "       'heavy-metal', 'hip-hop', 'honky-tonk', 'house', 'idm', 'indian',\n",
       "       'indie-pop', 'indie', 'industrial', 'iranian', 'j-dance', 'j-idol',\n",
       "       'j-pop', 'j-rock', 'jazz', 'k-pop', 'kids', 'latin', 'latino',\n",
       "       'malay', 'mandopop', 'metal', 'metalcore', 'minimal-techno', 'mpb',\n",
       "       'new-age', 'opera', 'pagode', 'party', 'piano', 'pop-film', 'pop',\n",
       "       'power-pop', 'progressive-house', 'psych-rock', 'punk-rock',\n",
       "       'punk', 'r-n-b', 'reggae', 'reggaeton', 'rock-n-roll', 'rock',\n",
       "       'rockabilly', 'romance', 'sad', 'salsa', 'samba', 'sertanejo',\n",
       "       'show-tunes', 'singer-songwriter', 'ska', 'sleep', 'songwriter',\n",
       "       'soul', 'spanish', 'study', 'swedish', 'synth-pop', 'tango',\n",
       "       'techno', 'trance', 'trip-hop', 'turkish', 'world-music'],\n",
       "      dtype=object)"
      ]
     },
     "execution_count": 13,
     "metadata": {},
     "output_type": "execute_result"
    }
   ],
   "source": [
    "audio_df.track_genre.unique()"
   ]
  },
  {
   "cell_type": "markdown",
   "metadata": {
    "id": "I8faU1jUoHd7"
   },
   "source": [
    "## **3.DATA DISTRIBUTION**"
   ]
  },
  {
   "cell_type": "markdown",
   "metadata": {
    "id": "KU-2YseTmnQM"
   },
   "source": [
    "**1) Numerical columns**"
   ]
  },
  {
   "cell_type": "code",
   "execution_count": 14,
   "metadata": {
    "colab": {
     "base_uri": "https://localhost:8080/"
    },
    "id": "uyo0_Xu-mmDe",
    "outputId": "5268a646-ef16-4974-e1dd-37db3cdf11c3"
   },
   "outputs": [
    {
     "data": {
      "text/plain": [
       "(113999, 15)"
      ]
     },
     "execution_count": 14,
     "metadata": {},
     "output_type": "execute_result"
    }
   ],
   "source": [
    "numerical_cols = audio_df[audio_df.columns[(audio_df.dtypes == 'float64') | (audio_df.dtypes == 'int64')]]\n",
    "numerical_cols.shape"
   ]
  },
  {
   "cell_type": "code",
   "execution_count": 15,
   "metadata": {
    "colab": {
     "base_uri": "https://localhost:8080/",
     "height": 206
    },
    "id": "aFx-iSrGmmGA",
    "outputId": "49a932f0-da84-4f36-e71c-7de5c6fe9808"
   },
   "outputs": [
    {
     "data": {
      "text/html": [
       "<div>\n",
       "<style scoped>\n",
       "    .dataframe tbody tr th:only-of-type {\n",
       "        vertical-align: middle;\n",
       "    }\n",
       "\n",
       "    .dataframe tbody tr th {\n",
       "        vertical-align: top;\n",
       "    }\n",
       "\n",
       "    .dataframe thead th {\n",
       "        text-align: right;\n",
       "    }\n",
       "</style>\n",
       "<table border=\"1\" class=\"dataframe\">\n",
       "  <thead>\n",
       "    <tr style=\"text-align: right;\">\n",
       "      <th></th>\n",
       "      <th>Unnamed: 0</th>\n",
       "      <th>popularity</th>\n",
       "      <th>duration_ms</th>\n",
       "      <th>danceability</th>\n",
       "      <th>energy</th>\n",
       "      <th>key</th>\n",
       "      <th>loudness</th>\n",
       "      <th>mode</th>\n",
       "      <th>speechiness</th>\n",
       "      <th>acousticness</th>\n",
       "      <th>instrumentalness</th>\n",
       "      <th>liveness</th>\n",
       "      <th>valence</th>\n",
       "      <th>tempo</th>\n",
       "      <th>time_signature</th>\n",
       "    </tr>\n",
       "  </thead>\n",
       "  <tbody>\n",
       "    <tr>\n",
       "      <th>104090</th>\n",
       "      <td>104090</td>\n",
       "      <td>0</td>\n",
       "      <td>178346</td>\n",
       "      <td>0.556</td>\n",
       "      <td>0.901</td>\n",
       "      <td>4</td>\n",
       "      <td>-7.289</td>\n",
       "      <td>1</td>\n",
       "      <td>0.0311</td>\n",
       "      <td>0.261000</td>\n",
       "      <td>0.000267</td>\n",
       "      <td>0.1050</td>\n",
       "      <td>0.932</td>\n",
       "      <td>129.888</td>\n",
       "      <td>4</td>\n",
       "    </tr>\n",
       "    <tr>\n",
       "      <th>77770</th>\n",
       "      <td>77770</td>\n",
       "      <td>44</td>\n",
       "      <td>210589</td>\n",
       "      <td>0.568</td>\n",
       "      <td>0.351</td>\n",
       "      <td>2</td>\n",
       "      <td>-15.123</td>\n",
       "      <td>0</td>\n",
       "      <td>0.5820</td>\n",
       "      <td>0.670000</td>\n",
       "      <td>0.000000</td>\n",
       "      <td>0.8900</td>\n",
       "      <td>0.639</td>\n",
       "      <td>134.811</td>\n",
       "      <td>4</td>\n",
       "    </tr>\n",
       "    <tr>\n",
       "      <th>43705</th>\n",
       "      <td>43705</td>\n",
       "      <td>51</td>\n",
       "      <td>173538</td>\n",
       "      <td>0.683</td>\n",
       "      <td>0.898</td>\n",
       "      <td>11</td>\n",
       "      <td>-6.746</td>\n",
       "      <td>0</td>\n",
       "      <td>0.0540</td>\n",
       "      <td>0.000739</td>\n",
       "      <td>0.755000</td>\n",
       "      <td>0.1270</td>\n",
       "      <td>0.276</td>\n",
       "      <td>130.002</td>\n",
       "      <td>4</td>\n",
       "    </tr>\n",
       "    <tr>\n",
       "      <th>38793</th>\n",
       "      <td>38793</td>\n",
       "      <td>27</td>\n",
       "      <td>309583</td>\n",
       "      <td>0.577</td>\n",
       "      <td>0.891</td>\n",
       "      <td>11</td>\n",
       "      <td>-6.274</td>\n",
       "      <td>0</td>\n",
       "      <td>0.0355</td>\n",
       "      <td>0.002190</td>\n",
       "      <td>0.243000</td>\n",
       "      <td>0.0958</td>\n",
       "      <td>0.297</td>\n",
       "      <td>94.498</td>\n",
       "      <td>4</td>\n",
       "    </tr>\n",
       "    <tr>\n",
       "      <th>98181</th>\n",
       "      <td>98181</td>\n",
       "      <td>51</td>\n",
       "      <td>112200</td>\n",
       "      <td>0.287</td>\n",
       "      <td>0.127</td>\n",
       "      <td>10</td>\n",
       "      <td>-15.797</td>\n",
       "      <td>1</td>\n",
       "      <td>0.0399</td>\n",
       "      <td>0.929000</td>\n",
       "      <td>0.000040</td>\n",
       "      <td>0.0841</td>\n",
       "      <td>0.227</td>\n",
       "      <td>123.830</td>\n",
       "      <td>3</td>\n",
       "    </tr>\n",
       "  </tbody>\n",
       "</table>\n",
       "</div>"
      ],
      "text/plain": [
       "        Unnamed: 0  popularity  duration_ms  danceability  energy  key  \\\n",
       "104090      104090           0       178346         0.556   0.901    4   \n",
       "77770        77770          44       210589         0.568   0.351    2   \n",
       "43705        43705          51       173538         0.683   0.898   11   \n",
       "38793        38793          27       309583         0.577   0.891   11   \n",
       "98181        98181          51       112200         0.287   0.127   10   \n",
       "\n",
       "        loudness  mode  speechiness  acousticness  instrumentalness  liveness  \\\n",
       "104090    -7.289     1       0.0311      0.261000          0.000267    0.1050   \n",
       "77770    -15.123     0       0.5820      0.670000          0.000000    0.8900   \n",
       "43705     -6.746     0       0.0540      0.000739          0.755000    0.1270   \n",
       "38793     -6.274     0       0.0355      0.002190          0.243000    0.0958   \n",
       "98181    -15.797     1       0.0399      0.929000          0.000040    0.0841   \n",
       "\n",
       "        valence    tempo  time_signature  \n",
       "104090    0.932  129.888               4  \n",
       "77770     0.639  134.811               4  \n",
       "43705     0.276  130.002               4  \n",
       "38793     0.297   94.498               4  \n",
       "98181     0.227  123.830               3  "
      ]
     },
     "execution_count": 15,
     "metadata": {},
     "output_type": "execute_result"
    }
   ],
   "source": [
    "numerical_cols.sample(5)"
   ]
  },
  {
   "cell_type": "code",
   "execution_count": 16,
   "metadata": {
    "colab": {
     "base_uri": "https://localhost:8080/",
     "height": 520
    },
    "id": "RM7-ZNBMmmIw",
    "outputId": "e97b8926-55bb-436a-d3b0-d7d635e67673"
   },
   "outputs": [
    {
     "data": {
      "text/html": [
       "<div>\n",
       "<style scoped>\n",
       "    .dataframe tbody tr th:only-of-type {\n",
       "        vertical-align: middle;\n",
       "    }\n",
       "\n",
       "    .dataframe tbody tr th {\n",
       "        vertical-align: top;\n",
       "    }\n",
       "\n",
       "    .dataframe thead th {\n",
       "        text-align: right;\n",
       "    }\n",
       "</style>\n",
       "<table border=\"1\" class=\"dataframe\">\n",
       "  <thead>\n",
       "    <tr style=\"text-align: right;\">\n",
       "      <th></th>\n",
       "      <th>min</th>\n",
       "      <th>max</th>\n",
       "      <th>Missing Values</th>\n",
       "      <th>Missing Percentage</th>\n",
       "    </tr>\n",
       "  </thead>\n",
       "  <tbody>\n",
       "    <tr>\n",
       "      <th>Unnamed: 0</th>\n",
       "      <td>0.000</td>\n",
       "      <td>113999.000</td>\n",
       "      <td>0</td>\n",
       "      <td>0.0</td>\n",
       "    </tr>\n",
       "    <tr>\n",
       "      <th>popularity</th>\n",
       "      <td>0.000</td>\n",
       "      <td>100.000</td>\n",
       "      <td>0</td>\n",
       "      <td>0.0</td>\n",
       "    </tr>\n",
       "    <tr>\n",
       "      <th>duration_ms</th>\n",
       "      <td>8586.000</td>\n",
       "      <td>5237295.000</td>\n",
       "      <td>0</td>\n",
       "      <td>0.0</td>\n",
       "    </tr>\n",
       "    <tr>\n",
       "      <th>danceability</th>\n",
       "      <td>0.000</td>\n",
       "      <td>0.985</td>\n",
       "      <td>0</td>\n",
       "      <td>0.0</td>\n",
       "    </tr>\n",
       "    <tr>\n",
       "      <th>energy</th>\n",
       "      <td>0.000</td>\n",
       "      <td>1.000</td>\n",
       "      <td>0</td>\n",
       "      <td>0.0</td>\n",
       "    </tr>\n",
       "    <tr>\n",
       "      <th>key</th>\n",
       "      <td>0.000</td>\n",
       "      <td>11.000</td>\n",
       "      <td>0</td>\n",
       "      <td>0.0</td>\n",
       "    </tr>\n",
       "    <tr>\n",
       "      <th>loudness</th>\n",
       "      <td>-49.531</td>\n",
       "      <td>4.532</td>\n",
       "      <td>0</td>\n",
       "      <td>0.0</td>\n",
       "    </tr>\n",
       "    <tr>\n",
       "      <th>mode</th>\n",
       "      <td>0.000</td>\n",
       "      <td>1.000</td>\n",
       "      <td>0</td>\n",
       "      <td>0.0</td>\n",
       "    </tr>\n",
       "    <tr>\n",
       "      <th>speechiness</th>\n",
       "      <td>0.000</td>\n",
       "      <td>0.965</td>\n",
       "      <td>0</td>\n",
       "      <td>0.0</td>\n",
       "    </tr>\n",
       "    <tr>\n",
       "      <th>acousticness</th>\n",
       "      <td>0.000</td>\n",
       "      <td>0.996</td>\n",
       "      <td>0</td>\n",
       "      <td>0.0</td>\n",
       "    </tr>\n",
       "    <tr>\n",
       "      <th>instrumentalness</th>\n",
       "      <td>0.000</td>\n",
       "      <td>1.000</td>\n",
       "      <td>0</td>\n",
       "      <td>0.0</td>\n",
       "    </tr>\n",
       "    <tr>\n",
       "      <th>liveness</th>\n",
       "      <td>0.000</td>\n",
       "      <td>1.000</td>\n",
       "      <td>0</td>\n",
       "      <td>0.0</td>\n",
       "    </tr>\n",
       "    <tr>\n",
       "      <th>valence</th>\n",
       "      <td>0.000</td>\n",
       "      <td>0.995</td>\n",
       "      <td>0</td>\n",
       "      <td>0.0</td>\n",
       "    </tr>\n",
       "    <tr>\n",
       "      <th>tempo</th>\n",
       "      <td>0.000</td>\n",
       "      <td>243.372</td>\n",
       "      <td>0</td>\n",
       "      <td>0.0</td>\n",
       "    </tr>\n",
       "    <tr>\n",
       "      <th>time_signature</th>\n",
       "      <td>0.000</td>\n",
       "      <td>5.000</td>\n",
       "      <td>0</td>\n",
       "      <td>0.0</td>\n",
       "    </tr>\n",
       "  </tbody>\n",
       "</table>\n",
       "</div>"
      ],
      "text/plain": [
       "                       min          max  Missing Values  Missing Percentage\n",
       "Unnamed: 0           0.000   113999.000               0                 0.0\n",
       "popularity           0.000      100.000               0                 0.0\n",
       "duration_ms       8586.000  5237295.000               0                 0.0\n",
       "danceability         0.000        0.985               0                 0.0\n",
       "energy               0.000        1.000               0                 0.0\n",
       "key                  0.000       11.000               0                 0.0\n",
       "loudness           -49.531        4.532               0                 0.0\n",
       "mode                 0.000        1.000               0                 0.0\n",
       "speechiness          0.000        0.965               0                 0.0\n",
       "acousticness         0.000        0.996               0                 0.0\n",
       "instrumentalness     0.000        1.000               0                 0.0\n",
       "liveness             0.000        1.000               0                 0.0\n",
       "valence              0.000        0.995               0                 0.0\n",
       "tempo                0.000      243.372               0                 0.0\n",
       "time_signature       0.000        5.000               0                 0.0"
      ]
     },
     "execution_count": 16,
     "metadata": {},
     "output_type": "execute_result"
    }
   ],
   "source": [
    "dist_numerical_cols = numerical_cols.describe().T[['min', 'max']]\n",
    "dist_numerical_cols['Missing Values'] = numerical_cols.isnull().sum()\n",
    "dist_numerical_cols['Missing Percentage'] = (numerical_cols.isnull().mean() * 100).round(2)\n",
    "# The number of -1 values in the 'key' column\n",
    "dist_numerical_cols.loc['key', 'Missing Values'] = (audio_df['key'] == -1).sum()\n",
    "dist_numerical_cols"
   ]
  },
  {
   "cell_type": "markdown",
   "metadata": {
    "id": "u2g5NRDcn-6U"
   },
   "source": [
    "**2) Categorical columns**\n"
   ]
  },
  {
   "cell_type": "code",
   "execution_count": 17,
   "metadata": {
    "colab": {
     "base_uri": "https://localhost:8080/"
    },
    "id": "weUaMz_CnAiY",
    "outputId": "b713b048-cf12-4d85-d81a-1a3080bf215c"
   },
   "outputs": [
    {
     "data": {
      "text/plain": [
       "(113999, 6)"
      ]
     },
     "execution_count": 17,
     "metadata": {},
     "output_type": "execute_result"
    }
   ],
   "source": [
    "categorical_cols = audio_df[audio_df.columns[(audio_df.dtypes == 'object') | (audio_df.dtypes == 'bool')]]\n",
    "categorical_cols.shape"
   ]
  },
  {
   "cell_type": "code",
   "execution_count": 18,
   "metadata": {
    "colab": {
     "base_uri": "https://localhost:8080/",
     "height": 206
    },
    "id": "8HflzOXMnAk2",
    "outputId": "27fe4993-de4f-490f-e4cf-0cefa66b7e7f"
   },
   "outputs": [
    {
     "data": {
      "text/html": [
       "<div>\n",
       "<style scoped>\n",
       "    .dataframe tbody tr th:only-of-type {\n",
       "        vertical-align: middle;\n",
       "    }\n",
       "\n",
       "    .dataframe tbody tr th {\n",
       "        vertical-align: top;\n",
       "    }\n",
       "\n",
       "    .dataframe thead th {\n",
       "        text-align: right;\n",
       "    }\n",
       "</style>\n",
       "<table border=\"1\" class=\"dataframe\">\n",
       "  <thead>\n",
       "    <tr style=\"text-align: right;\">\n",
       "      <th></th>\n",
       "      <th>track_id</th>\n",
       "      <th>artists</th>\n",
       "      <th>album_name</th>\n",
       "      <th>track_name</th>\n",
       "      <th>explicit</th>\n",
       "      <th>track_genre</th>\n",
       "    </tr>\n",
       "  </thead>\n",
       "  <tbody>\n",
       "    <tr>\n",
       "      <th>77579</th>\n",
       "      <td>7gip0LcKJuuS4pfg7Ya8gD</td>\n",
       "      <td>Xande De Pilares;Jorge Aragão</td>\n",
       "      <td>Nos Braços Do Povo (Ao Vivo / Vol.1)</td>\n",
       "      <td>Moleque Atrevido - Ao Vivo</td>\n",
       "      <td>False</td>\n",
       "      <td>pagode</td>\n",
       "    </tr>\n",
       "    <tr>\n",
       "      <th>17347</th>\n",
       "      <td>4kRROniJRDFFhgzGv2pnD1</td>\n",
       "      <td>Glee Cast;Darren Criss</td>\n",
       "      <td>Glee: The Music presents The Warblers</td>\n",
       "      <td>Hey, Soul Sister (feat. Darren Criss)</td>\n",
       "      <td>False</td>\n",
       "      <td>club</td>\n",
       "    </tr>\n",
       "    <tr>\n",
       "      <th>18948</th>\n",
       "      <td>4ysOuRIGNFsItKyg37PCdl</td>\n",
       "      <td>Kevin Bloody Wilson</td>\n",
       "      <td>My Australian Roots</td>\n",
       "      <td>Double Decker Dog</td>\n",
       "      <td>True</td>\n",
       "      <td>comedy</td>\n",
       "    </tr>\n",
       "    <tr>\n",
       "      <th>91681</th>\n",
       "      <td>2pTwONQnVj4MSNe602Kjj0</td>\n",
       "      <td>Rod Stewart;Ella Fitzgerald;Chris Botti</td>\n",
       "      <td>Best Christmas Playlist Ever 2022</td>\n",
       "      <td>What Are You Doing New Year's Eve?</td>\n",
       "      <td>False</td>\n",
       "      <td>rock</td>\n",
       "    </tr>\n",
       "    <tr>\n",
       "      <th>107509</th>\n",
       "      <td>0yNttAVwMr39qyODHNIkrY</td>\n",
       "      <td>Rick Astley</td>\n",
       "      <td>Whenever You Need Somebody (Deluxe Edition - 2...</td>\n",
       "      <td>Never Gonna Give You Up (2022 - Remaster)</td>\n",
       "      <td>False</td>\n",
       "      <td>synth-pop</td>\n",
       "    </tr>\n",
       "  </tbody>\n",
       "</table>\n",
       "</div>"
      ],
      "text/plain": [
       "                      track_id                                  artists  \\\n",
       "77579   7gip0LcKJuuS4pfg7Ya8gD            Xande De Pilares;Jorge Aragão   \n",
       "17347   4kRROniJRDFFhgzGv2pnD1                   Glee Cast;Darren Criss   \n",
       "18948   4ysOuRIGNFsItKyg37PCdl                      Kevin Bloody Wilson   \n",
       "91681   2pTwONQnVj4MSNe602Kjj0  Rod Stewart;Ella Fitzgerald;Chris Botti   \n",
       "107509  0yNttAVwMr39qyODHNIkrY                              Rick Astley   \n",
       "\n",
       "                                               album_name  \\\n",
       "77579                Nos Braços Do Povo (Ao Vivo / Vol.1)   \n",
       "17347               Glee: The Music presents The Warblers   \n",
       "18948                                 My Australian Roots   \n",
       "91681                   Best Christmas Playlist Ever 2022   \n",
       "107509  Whenever You Need Somebody (Deluxe Edition - 2...   \n",
       "\n",
       "                                       track_name  explicit track_genre  \n",
       "77579                  Moleque Atrevido - Ao Vivo     False      pagode  \n",
       "17347       Hey, Soul Sister (feat. Darren Criss)     False        club  \n",
       "18948                           Double Decker Dog      True      comedy  \n",
       "91681          What Are You Doing New Year's Eve?     False        rock  \n",
       "107509  Never Gonna Give You Up (2022 - Remaster)     False   synth-pop  "
      ]
     },
     "execution_count": 18,
     "metadata": {},
     "output_type": "execute_result"
    }
   ],
   "source": [
    "categorical_cols.sample(5)"
   ]
  },
  {
   "cell_type": "code",
   "execution_count": 19,
   "metadata": {
    "colab": {
     "base_uri": "https://localhost:8080/",
     "height": 238
    },
    "id": "ZaQan62InAnU",
    "outputId": "60acf00b-8372-4886-8fec-8834dd08db12"
   },
   "outputs": [
    {
     "data": {
      "text/html": [
       "<div>\n",
       "<style scoped>\n",
       "    .dataframe tbody tr th:only-of-type {\n",
       "        vertical-align: middle;\n",
       "    }\n",
       "\n",
       "    .dataframe tbody tr th {\n",
       "        vertical-align: top;\n",
       "    }\n",
       "\n",
       "    .dataframe thead th {\n",
       "        text-align: right;\n",
       "    }\n",
       "</style>\n",
       "<table border=\"1\" class=\"dataframe\">\n",
       "  <thead>\n",
       "    <tr style=\"text-align: right;\">\n",
       "      <th></th>\n",
       "      <th>Missing Values</th>\n",
       "      <th>Missing Percentage</th>\n",
       "    </tr>\n",
       "  </thead>\n",
       "  <tbody>\n",
       "    <tr>\n",
       "      <th>track_id</th>\n",
       "      <td>0</td>\n",
       "      <td>0.0</td>\n",
       "    </tr>\n",
       "    <tr>\n",
       "      <th>artists</th>\n",
       "      <td>0</td>\n",
       "      <td>0.0</td>\n",
       "    </tr>\n",
       "    <tr>\n",
       "      <th>album_name</th>\n",
       "      <td>0</td>\n",
       "      <td>0.0</td>\n",
       "    </tr>\n",
       "    <tr>\n",
       "      <th>track_name</th>\n",
       "      <td>0</td>\n",
       "      <td>0.0</td>\n",
       "    </tr>\n",
       "    <tr>\n",
       "      <th>explicit</th>\n",
       "      <td>0</td>\n",
       "      <td>0.0</td>\n",
       "    </tr>\n",
       "    <tr>\n",
       "      <th>track_genre</th>\n",
       "      <td>0</td>\n",
       "      <td>0.0</td>\n",
       "    </tr>\n",
       "  </tbody>\n",
       "</table>\n",
       "</div>"
      ],
      "text/plain": [
       "             Missing Values  Missing Percentage\n",
       "track_id                  0                 0.0\n",
       "artists                   0                 0.0\n",
       "album_name                0                 0.0\n",
       "track_name                0                 0.0\n",
       "explicit                  0                 0.0\n",
       "track_genre               0                 0.0"
      ]
     },
     "execution_count": 19,
     "metadata": {},
     "output_type": "execute_result"
    }
   ],
   "source": [
    "dist_categorical_cols = pd.DataFrame(\n",
    "    data = {\n",
    "        'Missing Values': categorical_cols.isnull().sum(),\n",
    "        'Missing Percentage': (categorical_cols.isnull().mean() * 100)\n",
    "    }\n",
    ")\n",
    "dist_categorical_cols"
   ]
  },
  {
   "cell_type": "code",
   "execution_count": 20,
   "metadata": {
    "colab": {
     "base_uri": "https://localhost:8080/",
     "height": 175
    },
    "id": "Z12a4e5KnAp4",
    "outputId": "6372e5f2-3e6f-4d4f-e889-c86929a01c42"
   },
   "outputs": [
    {
     "data": {
      "text/html": [
       "<div>\n",
       "<style scoped>\n",
       "    .dataframe tbody tr th:only-of-type {\n",
       "        vertical-align: middle;\n",
       "    }\n",
       "\n",
       "    .dataframe tbody tr th {\n",
       "        vertical-align: top;\n",
       "    }\n",
       "\n",
       "    .dataframe thead th {\n",
       "        text-align: right;\n",
       "    }\n",
       "</style>\n",
       "<table border=\"1\" class=\"dataframe\">\n",
       "  <thead>\n",
       "    <tr style=\"text-align: right;\">\n",
       "      <th></th>\n",
       "      <th>track_id</th>\n",
       "      <th>artists</th>\n",
       "      <th>album_name</th>\n",
       "      <th>track_name</th>\n",
       "      <th>explicit</th>\n",
       "      <th>track_genre</th>\n",
       "    </tr>\n",
       "  </thead>\n",
       "  <tbody>\n",
       "    <tr>\n",
       "      <th>count</th>\n",
       "      <td>113999</td>\n",
       "      <td>113999</td>\n",
       "      <td>113999</td>\n",
       "      <td>113999</td>\n",
       "      <td>113999</td>\n",
       "      <td>113999</td>\n",
       "    </tr>\n",
       "    <tr>\n",
       "      <th>unique</th>\n",
       "      <td>89740</td>\n",
       "      <td>31437</td>\n",
       "      <td>46589</td>\n",
       "      <td>73608</td>\n",
       "      <td>2</td>\n",
       "      <td>114</td>\n",
       "    </tr>\n",
       "    <tr>\n",
       "      <th>top</th>\n",
       "      <td>6S3JlDAGk3uu3NtZbPnuhS</td>\n",
       "      <td>The Beatles</td>\n",
       "      <td>Alternative Christmas 2022</td>\n",
       "      <td>Run Rudolph Run</td>\n",
       "      <td>False</td>\n",
       "      <td>acoustic</td>\n",
       "    </tr>\n",
       "    <tr>\n",
       "      <th>freq</th>\n",
       "      <td>9</td>\n",
       "      <td>279</td>\n",
       "      <td>195</td>\n",
       "      <td>151</td>\n",
       "      <td>104252</td>\n",
       "      <td>1000</td>\n",
       "    </tr>\n",
       "  </tbody>\n",
       "</table>\n",
       "</div>"
      ],
      "text/plain": [
       "                      track_id      artists                  album_name  \\\n",
       "count                   113999       113999                      113999   \n",
       "unique                   89740        31437                       46589   \n",
       "top     6S3JlDAGk3uu3NtZbPnuhS  The Beatles  Alternative Christmas 2022   \n",
       "freq                         9          279                         195   \n",
       "\n",
       "             track_name explicit track_genre  \n",
       "count            113999   113999      113999  \n",
       "unique            73608        2         114  \n",
       "top     Run Rudolph Run    False    acoustic  \n",
       "freq                151   104252        1000  "
      ]
     },
     "execution_count": 20,
     "metadata": {},
     "output_type": "execute_result"
    }
   ],
   "source": [
    "audio_df.describe(include=['object', 'bool'])"
   ]
  },
  {
   "cell_type": "markdown",
   "metadata": {
    "id": "Tjeyf7b724zd"
   },
   "source": [
    "## **4.DATA VISUALIZATION**"
   ]
  },
  {
   "cell_type": "code",
   "execution_count": 21,
   "metadata": {
    "colab": {
     "base_uri": "https://localhost:8080/",
     "height": 467
    },
    "id": "UdBXrJI11P94",
    "outputId": "2b8abe2f-b607-4e6b-9823-02ef8923bac3"
   },
   "outputs": [
    {
     "data": {
      "text/plain": [
       "<Axes: xlabel='track_genre', ylabel='count'>"
      ]
     },
     "execution_count": 21,
     "metadata": {},
     "output_type": "execute_result"
    },
    {
     "data": {
      "image/png": "[encoded data removed]",
      "text/plain": [
       "<Figure size 640x480 with 1 Axes>"
      ]
     },
     "metadata": {},
     "output_type": "display_data"
    }
   ],
   "source": [
    "sns.countplot(x = 'track_genre', data = audio_df)  # Data is imbalanced"
   ]
  },
  {
   "cell_type": "code",
   "execution_count": 22,
   "metadata": {
    "colab": {
     "base_uri": "https://localhost:8080/",
     "height": 444
    },
    "id": "mVmPizgpofHq",
    "outputId": "3d34882e-12b3-45fa-de05-23522fda659e"
   },
   "outputs": [
    {
     "data": {
      "image/png": "[encoded data removed]",
      "text/plain": [
       "<Figure size 500x500 with 1 Axes>"
      ]
     },
     "metadata": {},
     "output_type": "display_data"
    }
   ],
   "source": [
    "unique_values, value_counts = np.unique(categorical_cols['explicit'], return_counts=True)\n",
    "\n",
    "fig, ax = plt.subplots(figsize=(5, 5))\n",
    "\n",
    "# Explode the slice with explicit tracks for emphasis\n",
    "explode = [0, 0.1]  # Only \"yes\" (true) will be slightly exploded\n",
    "colors = ['#66b3ff','#99ff99']\n",
    "\n",
    "ax.pie(value_counts, labels=unique_values, autopct='%1.2f%%', startangle=90, colors=colors, explode=explode)\n",
    "ax.axis('equal')\n",
    "ax.set_title('Distribution of Explicit Tracks')\n",
    "plt.show()"
   ]
  },
  {
   "cell_type": "code",
   "execution_count": 23,
   "metadata": {
    "colab": {
     "base_uri": "https://localhost:8080/",
     "height": 1000
    },
    "id": "Hu2l4BmT1QAc",
    "outputId": "c8e8a79d-8c95-4318-d525-0664c39fdee9"
   },
   "outputs": [
    {
     "data": {
      "image/png": "[encoded data removed]",
      "text/plain": [
       "<Figure size 2000x1500 with 16 Axes>"
      ]
     },
     "metadata": {},
     "output_type": "display_data"
    },
    {
     "data": {
      "text/plain": [
       "'graphical skewing visualizations of data'"
      ]
     },
     "execution_count": 23,
     "metadata": {},
     "output_type": "execute_result"
    }
   ],
   "source": [
    "sns.set_style('darkgrid')\n",
    "sns.set(rc={\"axes.facecolor\":\"#EE82EE\",\"figure.facecolor\":\"#FFFFFF\"})\n",
    "numerical_cols.hist(figsize=(20,15), bins=30, xlabelsize=8, ylabelsize=8)\n",
    "plt.tight_layout()\n",
    "plt.show()\n",
    "\n",
    "'''graphical skewing visualizations of data'''"
   ]
  },
  {
   "cell_type": "markdown",
   "metadata": {
    "id": "Kop95TMOr4G5"
   },
   "source": [
    "## **5.DATA MODELLING**"
   ]
  },
  {
   "cell_type": "code",
   "execution_count": 24,
   "metadata": {
    "colab": {
     "base_uri": "https://localhost:8080/",
     "height": 419
    },
    "id": "CusrGElppSuE",
    "outputId": "7a9ed3ee-381a-47a3-fe26-ed4df866bd9c"
   },
   "outputs": [
    {
     "data": {
      "image/png": "[encoded data removed]",
      "text/plain": [
       "<Figure size 600x400 with 1 Axes>"
      ]
     },
     "metadata": {},
     "output_type": "display_data"
    }
   ],
   "source": [
    "# Calculate the average popularity score for each genre\n",
    "avg_popularity_by_genre = audio_df.groupby('track_genre')['popularity'].mean().reset_index()\n",
    "\n",
    "# Get the top 10 genres based on the highest average popularity\n",
    "top10_popular_genres = avg_popularity_by_genre.nlargest(10, 'popularity')\n",
    "\n",
    "# Create a figure for the plot with a specific size\n",
    "plt.figure(figsize=(6, 4))\n",
    "\n",
    "# Plot a bar chart showing the top 10 genres with the highest average popularity\n",
    "sns.barplot(x='popularity', y='track_genre', data=top10_popular_genres)\n",
    "\n",
    "# Set the title and labels for the plot\n",
    "plt.title('Top 10 Genres with Highest Average Popularity')\n",
    "plt.xlabel('Average popularity score')\n",
    "plt.ylabel('Genre')\n",
    "\n",
    "# Display the plot\n",
    "plt.show()\n"
   ]
  },
  {
   "cell_type": "code",
   "execution_count": 25,
   "metadata": {
    "colab": {
     "base_uri": "https://localhost:8080/",
     "height": 436
    },
    "id": "_IPVgs2MpS8n",
    "outputId": "5ca220b1-4db1-4b65-b920-c0f08f45830d"
   },
   "outputs": [
    {
     "data": {
      "image/png": "[encoded data removed]",
      "text/plain": [
       "<Figure size 600x400 with 1 Axes>"
      ]
     },
     "metadata": {},
     "output_type": "display_data"
    },
    {
     "name": "stdout",
     "output_type": "stream",
     "text": [
      "The genre with the most songs in the top 0.001% is pop with 22 songs.\n"
     ]
    }
   ],
   "source": [
    "df_sorted = audio_df.sort_values(by='popularity', ascending=False)\n",
    "\n",
    "top_10_percent = df_sorted.head(int(0.001 * len(df_sorted)))\n",
    "\n",
    "top_genres_count = top_10_percent.groupby('track_genre').size().reset_index(name='count')\n",
    "top_genres_count = top_genres_count.sort_values(by='count', ascending=False)\n",
    "\n",
    "most_common_genre = top_genres_count.loc[top_genres_count['count'].idxmax()]\n",
    "\n",
    "# Bước 5: Visualize Kết Quả\n",
    "plt.figure(figsize=(6, 4))\n",
    "sns.barplot(x='count', y='track_genre', data=top_genres_count)\n",
    "plt.title('Number of Songs in Top 0.001% by Genre')\n",
    "plt.xlabel('Number of Songs')\n",
    "plt.ylabel('Genre')\n",
    "plt.show()\n",
    "\n",
    "print(f\"The genre with the most songs in the top 0.001% is {most_common_genre['track_genre']} with {most_common_genre['count']} songs.\")"
   ]
  },
  {
   "cell_type": "code",
   "execution_count": 26,
   "metadata": {
    "colab": {
     "base_uri": "https://localhost:8080/",
     "height": 419
    },
    "id": "MBkKfaGypS-o",
    "outputId": "0c2b8550-4658-469a-8723-6529ad74009c"
   },
   "outputs": [
    {
     "data": {
      "image/png": "[encoded data removed]",
      "text/plain": [
       "<Figure size 600x400 with 1 Axes>"
      ]
     },
     "metadata": {},
     "output_type": "display_data"
    }
   ],
   "source": [
    "avg_popularity_by_genre = audio_df.groupby('track_genre')['popularity'].mean().reset_index()\n",
    "\n",
    "top3_popular_genres = avg_popularity_by_genre.nlargest(3, 'popularity')\n",
    "\n",
    "top3_genre_data = audio_df[audio_df['track_genre'].isin(top3_popular_genres['track_genre'])]\n",
    "\n",
    "plt.figure(figsize=(6, 4))\n",
    "sns.scatterplot(x='loudness', y='energy', hue='track_genre', data=top3_genre_data, palette='viridis')\n",
    "plt.title('Comparison of loudness and energy in Top 3 Popular Genres')\n",
    "plt.xlabel('loudness')\n",
    "plt.ylabel('energy')\n",
    "plt.legend(title='Genre')\n",
    "plt.show()"
   ]
  },
  {
   "cell_type": "markdown",
   "metadata": {
    "id": "GshxJ0VIrcpq"
   },
   "source": [
    "***Top genres: The most popular genres in the dataset by mean popularity of its songs***\n",
    "\n",
    "***Top artists: The most popular artists in the dataset by mean popularity of their songs***\n",
    "\n",
    "***Genres of top artists: The genres expressed in the songs of the top artists***"
   ]
  },
  {
   "cell_type": "code",
   "execution_count": 27,
   "metadata": {
    "colab": {
     "base_uri": "https://localhost:8080/",
     "height": 429
    },
    "id": "A-zMAs4GpTBI",
    "outputId": "a63c0420-324c-4166-f684-37c793ed3582"
   },
   "outputs": [
    {
     "data": {
      "text/plain": [
       "track_genre\n",
       "pop-film     59.283000\n",
       "k-pop        56.952953\n",
       "chill        53.651000\n",
       "sad          52.379000\n",
       "grunge       49.594000\n",
       "indian       49.539000\n",
       "anime        48.772000\n",
       "emo          48.128000\n",
       "sertanejo    47.866000\n",
       "pop          47.576000\n",
       "Name: popularity, dtype: float64"
      ]
     },
     "execution_count": 27,
     "metadata": {},
     "output_type": "execute_result"
    }
   ],
   "source": [
    "top_genres = audio_df.groupby('track_genre')['popularity'].mean()\n",
    "top_genres = top_genres[top_genres >= 35].sort_values(ascending=False)\n",
    "top_genres[:10]"
   ]
  },
  {
   "cell_type": "code",
   "execution_count": 28,
   "metadata": {
    "id": "J5jl8A6LpTDa"
   },
   "outputs": [],
   "source": [
    "copy_df = audio_df.copy()\n",
    "copy_df['artists'] = copy_df['artists'].str.split(';')\n",
    "copy_df = copy_df.explode('artists')"
   ]
  },
  {
   "cell_type": "code",
   "execution_count": 29,
   "metadata": {
    "colab": {
     "base_uri": "https://localhost:8080/",
     "height": 429
    },
    "id": "n8l6-mqtpTF5",
    "outputId": "d2f4b80b-681c-4c73-826a-d34f837a29af"
   },
   "outputs": [
    {
     "data": {
      "text/plain": [
       "artists\n",
       "Bizarrap            99.0\n",
       "Quevedo             99.0\n",
       "Harry Styles        92.0\n",
       "Luar La L           90.5\n",
       "Beach Weather       90.0\n",
       "Pablo Pesadilla     88.0\n",
       "Polimá Westcoast    88.0\n",
       "Olivia Rodrigo      87.4\n",
       "Lewis Capaldi       87.0\n",
       "Yung Gravy          87.0\n",
       "Name: popularity, dtype: float64"
      ]
     },
     "execution_count": 29,
     "metadata": {},
     "output_type": "execute_result"
    }
   ],
   "source": [
    "top_artists = copy_df.groupby('artists')['popularity'].mean()\n",
    "top_artists = top_artists[top_artists >= 70].sort_values(ascending=False)\n",
    "top_artists[:10]"
   ]
  },
  {
   "cell_type": "code",
   "execution_count": 35,
   "metadata": {
    "colab": {
     "base_uri": "https://localhost:8080/"
    },
    "id": "AcDEuO-Rs90f",
    "outputId": "dcd2a56e-121f-4c59-f5b6-43e110664c09"
   },
   "outputs": [
    {
     "name": "stdout",
     "output_type": "stream",
     "text": [
      "[]\n"
     ]
    }
   ],
   "source": [
    "# Convert all values in 'artists' to strings and apply .str.lower()\n",
    "genres_artists = audio_df[audio_df['artists'].isin(top_artists)]['track_genre'].unique().tolist()\n",
    "\n",
    "# Display the first 10 unique genres\n",
    "print(genres_artists[:10])"
   ]
  },
  {
   "cell_type": "code",
   "execution_count": 36,
   "metadata": {
    "colab": {
     "base_uri": "https://localhost:8080/",
     "height": 413
    },
    "id": "KOGFs752pTM2",
    "outputId": "0d0b0b8b-9a57-40bd-fe4e-bea3c65d0abb"
   },
   "outputs": [
    {
     "data": {
      "image/png": "[encoded data removed]",
      "text/plain": [
       "<Figure size 2000x500 with 3 Axes>"
      ]
     },
     "metadata": {},
     "output_type": "display_data"
    }
   ],
   "source": [
    "top_genres_only = list(set(top_genres) - set(genres_artists))\n",
    "genres_artists_only = list(set(genres_artists) - set(top_genres))\n",
    "intersection = list(set(top_genres) & set(genres_artists))\n",
    "\n",
    "top_genres_only = audio_df[audio_df['track_genre'].isin(top_genres_only)].groupby('track_genre')['popularity'].mean().sort_values(ascending=False).head(15)\n",
    "genres_artists_only = audio_df[audio_df['track_genre'].isin(genres_artists_only)].groupby('track_genre')['popularity'].mean().sort_values(ascending=False).head(15)\n",
    "intersection = audio_df[audio_df['track_genre'].isin(intersection)].groupby('track_genre')['popularity'].mean().sort_values(ascending=False).head(15)\n",
    "\n",
    "fig, axes = plt.subplots(1, 3, figsize=(20, 5))\n",
    "\n",
    "sns.barplot(x=top_genres_only.values, y=top_genres_only.index, ax=axes[0])\n",
    "axes[0].set_title('Mean Popularity of Top Genres Only')\n",
    "axes[0].set_xlabel('Mean Popularity')\n",
    "axes[0].set_ylabel('Genres')\n",
    "\n",
    "sns.barplot(x=genres_artists_only.values, y=genres_artists_only.index, ax=axes[1])\n",
    "axes[1].set_title('Mean Popularity of Genres of Top Artists Only')\n",
    "axes[1].set_xlabel('Mean Popularity')\n",
    "axes[1].set_ylabel('')\n",
    "\n",
    "sns.barplot(x=intersection.values, y=intersection.index, ax=axes[2])\n",
    "axes[2].set_title('Mean Popularity of Intersection of Top Genres and Top Artists')\n",
    "axes[2].set_xlabel('Mean Popularity')\n",
    "axes[2].set_ylabel('')\n",
    "\n",
    "\n",
    "plt.tight_layout()\n",
    "plt.show()"
   ]
  },
  {
   "cell_type": "markdown",
   "metadata": {
    "id": "A6WqOU0CuHGl"
   },
   "source": [
    "## **6.NORMALIZATION**"
   ]
  },
  {
   "cell_type": "code",
   "execution_count": 37,
   "metadata": {
    "id": "uXaS_uszw_Ef"
   },
   "outputs": [],
   "source": [
    "data = audio_df\n",
    "data['popularity_flag'] = 0\n",
    "data.loc[audio_df['popularity'] > 50, 'popularity_flag'] = 1"
   ]
  },
  {
   "cell_type": "code",
   "execution_count": 38,
   "metadata": {
    "colab": {
     "base_uri": "https://localhost:8080/",
     "height": 455
    },
    "id": "R88qPNhuw_Gv",
    "outputId": "8836b051-c14c-44a8-af99-a65a820e467a"
   },
   "outputs": [
    {
     "data": {
      "text/html": [
       "<div>\n",
       "<style scoped>\n",
       "    .dataframe tbody tr th:only-of-type {\n",
       "        vertical-align: middle;\n",
       "    }\n",
       "\n",
       "    .dataframe tbody tr th {\n",
       "        vertical-align: top;\n",
       "    }\n",
       "\n",
       "    .dataframe thead th {\n",
       "        text-align: right;\n",
       "    }\n",
       "</style>\n",
       "<table border=\"1\" class=\"dataframe\">\n",
       "  <thead>\n",
       "    <tr style=\"text-align: right;\">\n",
       "      <th></th>\n",
       "      <th>0</th>\n",
       "    </tr>\n",
       "    <tr>\n",
       "      <th>artists</th>\n",
       "      <th></th>\n",
       "    </tr>\n",
       "  </thead>\n",
       "  <tbody>\n",
       "    <tr>\n",
       "      <th>The Beatles</th>\n",
       "      <td>279</td>\n",
       "    </tr>\n",
       "    <tr>\n",
       "      <th>George Jones</th>\n",
       "      <td>271</td>\n",
       "    </tr>\n",
       "    <tr>\n",
       "      <th>Stevie Wonder</th>\n",
       "      <td>236</td>\n",
       "    </tr>\n",
       "    <tr>\n",
       "      <th>Linkin Park</th>\n",
       "      <td>224</td>\n",
       "    </tr>\n",
       "    <tr>\n",
       "      <th>Ella Fitzgerald</th>\n",
       "      <td>222</td>\n",
       "    </tr>\n",
       "    <tr>\n",
       "      <th>...</th>\n",
       "      <td>...</td>\n",
       "    </tr>\n",
       "    <tr>\n",
       "      <th>Mother Love Bone</th>\n",
       "      <td>1</td>\n",
       "    </tr>\n",
       "    <tr>\n",
       "      <th>DubVision;Afrojack</th>\n",
       "      <td>1</td>\n",
       "    </tr>\n",
       "    <tr>\n",
       "      <th>Dub Pistols;Too Many T's</th>\n",
       "      <td>1</td>\n",
       "    </tr>\n",
       "    <tr>\n",
       "      <th>Mothership</th>\n",
       "      <td>1</td>\n",
       "    </tr>\n",
       "    <tr>\n",
       "      <th>DJ Mongoose</th>\n",
       "      <td>1</td>\n",
       "    </tr>\n",
       "  </tbody>\n",
       "</table>\n",
       "<p>31437 rows × 1 columns</p>\n",
       "</div>"
      ],
      "text/plain": [
       "                            0\n",
       "artists                      \n",
       "The Beatles               279\n",
       "George Jones              271\n",
       "Stevie Wonder             236\n",
       "Linkin Park               224\n",
       "Ella Fitzgerald           222\n",
       "...                       ...\n",
       "Mother Love Bone            1\n",
       "DubVision;Afrojack          1\n",
       "Dub Pistols;Too Many T's    1\n",
       "Mothership                  1\n",
       "DJ Mongoose                 1\n",
       "\n",
       "[31437 rows x 1 columns]"
      ]
     },
     "execution_count": 38,
     "metadata": {},
     "output_type": "execute_result"
    }
   ],
   "source": [
    "data_art = data.groupby(['artists']).size()\n",
    "data_art = data_art.to_frame()\n",
    "data_art.sort_values(by=[0], ascending=False)"
   ]
  },
  {
   "cell_type": "code",
   "execution_count": 39,
   "metadata": {
    "colab": {
     "base_uri": "https://localhost:8080/",
     "height": 455
    },
    "id": "EXhwh6Wkw_Iv",
    "outputId": "98450e16-4042-4d6e-8689-7ac2c9399482"
   },
   "outputs": [
    {
     "data": {
      "text/html": [
       "<div>\n",
       "<style scoped>\n",
       "    .dataframe tbody tr th:only-of-type {\n",
       "        vertical-align: middle;\n",
       "    }\n",
       "\n",
       "    .dataframe tbody tr th {\n",
       "        vertical-align: top;\n",
       "    }\n",
       "\n",
       "    .dataframe thead th {\n",
       "        text-align: right;\n",
       "    }\n",
       "</style>\n",
       "<table border=\"1\" class=\"dataframe\">\n",
       "  <thead>\n",
       "    <tr style=\"text-align: right;\">\n",
       "      <th></th>\n",
       "      <th>0</th>\n",
       "    </tr>\n",
       "    <tr>\n",
       "      <th>track_genre</th>\n",
       "      <th></th>\n",
       "    </tr>\n",
       "  </thead>\n",
       "  <tbody>\n",
       "    <tr>\n",
       "      <th>acoustic</th>\n",
       "      <td>1000</td>\n",
       "    </tr>\n",
       "    <tr>\n",
       "      <th>afrobeat</th>\n",
       "      <td>1000</td>\n",
       "    </tr>\n",
       "    <tr>\n",
       "      <th>psych-rock</th>\n",
       "      <td>1000</td>\n",
       "    </tr>\n",
       "    <tr>\n",
       "      <th>progressive-house</th>\n",
       "      <td>1000</td>\n",
       "    </tr>\n",
       "    <tr>\n",
       "      <th>power-pop</th>\n",
       "      <td>1000</td>\n",
       "    </tr>\n",
       "    <tr>\n",
       "      <th>...</th>\n",
       "      <td>...</td>\n",
       "    </tr>\n",
       "    <tr>\n",
       "      <th>emo</th>\n",
       "      <td>1000</td>\n",
       "    </tr>\n",
       "    <tr>\n",
       "      <th>electronic</th>\n",
       "      <td>1000</td>\n",
       "    </tr>\n",
       "    <tr>\n",
       "      <th>electro</th>\n",
       "      <td>1000</td>\n",
       "    </tr>\n",
       "    <tr>\n",
       "      <th>world-music</th>\n",
       "      <td>1000</td>\n",
       "    </tr>\n",
       "    <tr>\n",
       "      <th>k-pop</th>\n",
       "      <td>999</td>\n",
       "    </tr>\n",
       "  </tbody>\n",
       "</table>\n",
       "<p>114 rows × 1 columns</p>\n",
       "</div>"
      ],
      "text/plain": [
       "                      0\n",
       "track_genre            \n",
       "acoustic           1000\n",
       "afrobeat           1000\n",
       "psych-rock         1000\n",
       "progressive-house  1000\n",
       "power-pop          1000\n",
       "...                 ...\n",
       "emo                1000\n",
       "electronic         1000\n",
       "electro            1000\n",
       "world-music        1000\n",
       "k-pop               999\n",
       "\n",
       "[114 rows x 1 columns]"
      ]
     },
     "execution_count": 39,
     "metadata": {},
     "output_type": "execute_result"
    }
   ],
   "source": [
    "data_gen = data.groupby(['track_genre']).size()\n",
    "data_gen = data_gen.to_frame()\n",
    "data_gen.sort_values(by=[0], ascending=False)"
   ]
  },
  {
   "cell_type": "code",
   "execution_count": 40,
   "metadata": {
    "id": "sOuxVbuAxdXg"
   },
   "outputs": [],
   "source": [
    "data2 = data.drop(['Unnamed: 0', 'track_id','artists','album_name','track_name','popularity'], axis=1)"
   ]
  },
  {
   "cell_type": "code",
   "execution_count": 41,
   "metadata": {
    "colab": {
     "base_uri": "https://localhost:8080/"
    },
    "id": "jktYXWTTxuoF",
    "outputId": "c56896a5-8ce6-4d50-87f5-253b89c34bf4"
   },
   "outputs": [
    {
     "name": "stdout",
     "output_type": "stream",
     "text": [
      "duration_ms        -0.040975\n",
      "danceability        0.052040\n",
      "energy             -0.022273\n",
      "key                -0.001432\n",
      "loudness            0.034286\n",
      "mode               -0.026229\n",
      "speechiness        -0.049383\n",
      "acousticness       -0.035401\n",
      "instrumentalness   -0.081801\n",
      "liveness           -0.086908\n",
      "valence            -0.040239\n",
      "tempo              -0.013158\n",
      "time_signature      0.024892\n",
      "Name: popularity_flag, dtype: float64\n"
     ]
    }
   ],
   "source": [
    "# Select only numeric columns for correlation\n",
    "numeric_data = data2.select_dtypes(include=[float, int])\n",
    "\n",
    "# Calculate the correlation with 'popularity_flag'\n",
    "pop_corr = numeric_data.corr()['popularity_flag'][:-1]\n",
    "\n",
    "print(pop_corr)"
   ]
  },
  {
   "cell_type": "code",
   "execution_count": 42,
   "metadata": {
    "colab": {
     "base_uri": "https://localhost:8080/"
    },
    "id": "MJR-ITJnxvLK",
    "outputId": "fce176ee-de3e-4a98-f989-7e63004f68b3"
   },
   "outputs": [
    {
     "data": {
      "text/plain": [
       "0.039155028065120834"
      ]
     },
     "execution_count": 42,
     "metadata": {},
     "output_type": "execute_result"
    }
   ],
   "source": [
    "ts_list = pop_corr.values.tolist()\n",
    "ts_list_abs =  [abs(ele) for ele in ts_list]\n",
    "\n",
    "def Average(lst):\n",
    "    return sum(lst) / len(lst)\n",
    "\n",
    "average = Average(ts_list_abs)\n",
    "average"
   ]
  },
  {
   "cell_type": "code",
   "execution_count": 43,
   "metadata": {
    "colab": {
     "base_uri": "https://localhost:8080/",
     "height": 457
    },
    "id": "fJIZZRmhxvNK",
    "outputId": "99ca7097-7304-4f8d-9c82-dada2a7ebaaf"
   },
   "outputs": [
    {
     "data": {
      "text/html": [
       "<div>\n",
       "<style scoped>\n",
       "    .dataframe tbody tr th:only-of-type {\n",
       "        vertical-align: middle;\n",
       "    }\n",
       "\n",
       "    .dataframe tbody tr th {\n",
       "        vertical-align: top;\n",
       "    }\n",
       "\n",
       "    .dataframe thead th {\n",
       "        text-align: right;\n",
       "    }\n",
       "</style>\n",
       "<table border=\"1\" class=\"dataframe\">\n",
       "  <thead>\n",
       "    <tr style=\"text-align: right;\">\n",
       "      <th></th>\n",
       "      <th>popularity_flag</th>\n",
       "    </tr>\n",
       "  </thead>\n",
       "  <tbody>\n",
       "    <tr>\n",
       "      <th>duration_ms</th>\n",
       "      <td>-0.040975</td>\n",
       "    </tr>\n",
       "    <tr>\n",
       "      <th>danceability</th>\n",
       "      <td>0.052040</td>\n",
       "    </tr>\n",
       "    <tr>\n",
       "      <th>energy</th>\n",
       "      <td>-0.022273</td>\n",
       "    </tr>\n",
       "    <tr>\n",
       "      <th>key</th>\n",
       "      <td>-0.001432</td>\n",
       "    </tr>\n",
       "    <tr>\n",
       "      <th>loudness</th>\n",
       "      <td>0.034286</td>\n",
       "    </tr>\n",
       "    <tr>\n",
       "      <th>mode</th>\n",
       "      <td>-0.026229</td>\n",
       "    </tr>\n",
       "    <tr>\n",
       "      <th>speechiness</th>\n",
       "      <td>-0.049383</td>\n",
       "    </tr>\n",
       "    <tr>\n",
       "      <th>acousticness</th>\n",
       "      <td>-0.035401</td>\n",
       "    </tr>\n",
       "    <tr>\n",
       "      <th>instrumentalness</th>\n",
       "      <td>-0.081801</td>\n",
       "    </tr>\n",
       "    <tr>\n",
       "      <th>liveness</th>\n",
       "      <td>-0.086908</td>\n",
       "    </tr>\n",
       "    <tr>\n",
       "      <th>valence</th>\n",
       "      <td>-0.040239</td>\n",
       "    </tr>\n",
       "    <tr>\n",
       "      <th>tempo</th>\n",
       "      <td>-0.013158</td>\n",
       "    </tr>\n",
       "    <tr>\n",
       "      <th>time_signature</th>\n",
       "      <td>0.024892</td>\n",
       "    </tr>\n",
       "  </tbody>\n",
       "</table>\n",
       "</div>"
      ],
      "text/plain": [
       "                  popularity_flag\n",
       "duration_ms             -0.040975\n",
       "danceability             0.052040\n",
       "energy                  -0.022273\n",
       "key                     -0.001432\n",
       "loudness                 0.034286\n",
       "mode                    -0.026229\n",
       "speechiness             -0.049383\n",
       "acousticness            -0.035401\n",
       "instrumentalness        -0.081801\n",
       "liveness                -0.086908\n",
       "valence                 -0.040239\n",
       "tempo                   -0.013158\n",
       "time_signature           0.024892"
      ]
     },
     "execution_count": 43,
     "metadata": {},
     "output_type": "execute_result"
    }
   ],
   "source": [
    "pop_corr_df = pop_corr.to_frame()\n",
    "pop_corr_df"
   ]
  },
  {
   "cell_type": "code",
   "execution_count": 44,
   "metadata": {
    "colab": {
     "base_uri": "https://localhost:8080/",
     "height": 238
    },
    "id": "wMxm5K-SxvQL",
    "outputId": "3a258ce1-6a0d-470e-b8ec-ea3c2e349347"
   },
   "outputs": [
    {
     "data": {
      "text/html": [
       "<div>\n",
       "<style scoped>\n",
       "    .dataframe tbody tr th:only-of-type {\n",
       "        vertical-align: middle;\n",
       "    }\n",
       "\n",
       "    .dataframe tbody tr th {\n",
       "        vertical-align: top;\n",
       "    }\n",
       "\n",
       "    .dataframe thead th {\n",
       "        text-align: right;\n",
       "    }\n",
       "</style>\n",
       "<table border=\"1\" class=\"dataframe\">\n",
       "  <thead>\n",
       "    <tr style=\"text-align: right;\">\n",
       "      <th></th>\n",
       "      <th>popularity_flag</th>\n",
       "      <th>pop_flag_abs</th>\n",
       "    </tr>\n",
       "  </thead>\n",
       "  <tbody>\n",
       "    <tr>\n",
       "      <th>liveness</th>\n",
       "      <td>-0.086908</td>\n",
       "      <td>0.086908</td>\n",
       "    </tr>\n",
       "    <tr>\n",
       "      <th>instrumentalness</th>\n",
       "      <td>-0.081801</td>\n",
       "      <td>0.081801</td>\n",
       "    </tr>\n",
       "    <tr>\n",
       "      <th>danceability</th>\n",
       "      <td>0.052040</td>\n",
       "      <td>0.052040</td>\n",
       "    </tr>\n",
       "    <tr>\n",
       "      <th>speechiness</th>\n",
       "      <td>-0.049383</td>\n",
       "      <td>0.049383</td>\n",
       "    </tr>\n",
       "    <tr>\n",
       "      <th>duration_ms</th>\n",
       "      <td>-0.040975</td>\n",
       "      <td>0.040975</td>\n",
       "    </tr>\n",
       "    <tr>\n",
       "      <th>valence</th>\n",
       "      <td>-0.040239</td>\n",
       "      <td>0.040239</td>\n",
       "    </tr>\n",
       "  </tbody>\n",
       "</table>\n",
       "</div>"
      ],
      "text/plain": [
       "                  popularity_flag  pop_flag_abs\n",
       "liveness                -0.086908      0.086908\n",
       "instrumentalness        -0.081801      0.081801\n",
       "danceability             0.052040      0.052040\n",
       "speechiness             -0.049383      0.049383\n",
       "duration_ms             -0.040975      0.040975\n",
       "valence                 -0.040239      0.040239"
      ]
     },
     "execution_count": 44,
     "metadata": {},
     "output_type": "execute_result"
    }
   ],
   "source": [
    "pop_corr_df['pop_flag_abs'] = abs(pop_corr_df['popularity_flag'])\n",
    "pop_corr_abv = pop_corr_df[(pop_corr_df['pop_flag_abs']>average)]\n",
    "pop_corr_abv = pop_corr_abv.sort_values(by=['pop_flag_abs'], ascending=False)\n",
    "pop_corr_abv"
   ]
  },
  {
   "cell_type": "code",
   "execution_count": 45,
   "metadata": {
    "colab": {
     "base_uri": "https://localhost:8080/",
     "height": 273
    },
    "id": "GnWH2cwsxvS6",
    "outputId": "13ec98bf-4d0f-462a-bd70-3379aeee857f"
   },
   "outputs": [
    {
     "data": {
      "text/html": [
       "<div>\n",
       "<style scoped>\n",
       "    .dataframe tbody tr th:only-of-type {\n",
       "        vertical-align: middle;\n",
       "    }\n",
       "\n",
       "    .dataframe tbody tr th {\n",
       "        vertical-align: top;\n",
       "    }\n",
       "\n",
       "    .dataframe thead th {\n",
       "        text-align: right;\n",
       "    }\n",
       "</style>\n",
       "<table border=\"1\" class=\"dataframe\">\n",
       "  <thead>\n",
       "    <tr style=\"text-align: right;\">\n",
       "      <th></th>\n",
       "      <th>duration_ms</th>\n",
       "      <th>danceability</th>\n",
       "      <th>energy</th>\n",
       "      <th>key</th>\n",
       "      <th>loudness</th>\n",
       "      <th>mode</th>\n",
       "      <th>speechiness</th>\n",
       "      <th>acousticness</th>\n",
       "      <th>instrumentalness</th>\n",
       "      <th>liveness</th>\n",
       "      <th>...</th>\n",
       "      <th>track_genre_spanish</th>\n",
       "      <th>track_genre_study</th>\n",
       "      <th>track_genre_swedish</th>\n",
       "      <th>track_genre_synth-pop</th>\n",
       "      <th>track_genre_tango</th>\n",
       "      <th>track_genre_techno</th>\n",
       "      <th>track_genre_trance</th>\n",
       "      <th>track_genre_trip-hop</th>\n",
       "      <th>track_genre_turkish</th>\n",
       "      <th>track_genre_world-music</th>\n",
       "    </tr>\n",
       "  </thead>\n",
       "  <tbody>\n",
       "    <tr>\n",
       "      <th>0</th>\n",
       "      <td>230666</td>\n",
       "      <td>0.676</td>\n",
       "      <td>0.4610</td>\n",
       "      <td>1</td>\n",
       "      <td>-6.746</td>\n",
       "      <td>0</td>\n",
       "      <td>0.1430</td>\n",
       "      <td>0.0322</td>\n",
       "      <td>0.000001</td>\n",
       "      <td>0.3580</td>\n",
       "      <td>...</td>\n",
       "      <td>False</td>\n",
       "      <td>False</td>\n",
       "      <td>False</td>\n",
       "      <td>False</td>\n",
       "      <td>False</td>\n",
       "      <td>False</td>\n",
       "      <td>False</td>\n",
       "      <td>False</td>\n",
       "      <td>False</td>\n",
       "      <td>False</td>\n",
       "    </tr>\n",
       "    <tr>\n",
       "      <th>1</th>\n",
       "      <td>149610</td>\n",
       "      <td>0.420</td>\n",
       "      <td>0.1660</td>\n",
       "      <td>1</td>\n",
       "      <td>-17.235</td>\n",
       "      <td>1</td>\n",
       "      <td>0.0763</td>\n",
       "      <td>0.9240</td>\n",
       "      <td>0.000006</td>\n",
       "      <td>0.1010</td>\n",
       "      <td>...</td>\n",
       "      <td>False</td>\n",
       "      <td>False</td>\n",
       "      <td>False</td>\n",
       "      <td>False</td>\n",
       "      <td>False</td>\n",
       "      <td>False</td>\n",
       "      <td>False</td>\n",
       "      <td>False</td>\n",
       "      <td>False</td>\n",
       "      <td>False</td>\n",
       "    </tr>\n",
       "    <tr>\n",
       "      <th>2</th>\n",
       "      <td>210826</td>\n",
       "      <td>0.438</td>\n",
       "      <td>0.3590</td>\n",
       "      <td>0</td>\n",
       "      <td>-9.734</td>\n",
       "      <td>1</td>\n",
       "      <td>0.0557</td>\n",
       "      <td>0.2100</td>\n",
       "      <td>0.000000</td>\n",
       "      <td>0.1170</td>\n",
       "      <td>...</td>\n",
       "      <td>False</td>\n",
       "      <td>False</td>\n",
       "      <td>False</td>\n",
       "      <td>False</td>\n",
       "      <td>False</td>\n",
       "      <td>False</td>\n",
       "      <td>False</td>\n",
       "      <td>False</td>\n",
       "      <td>False</td>\n",
       "      <td>False</td>\n",
       "    </tr>\n",
       "    <tr>\n",
       "      <th>3</th>\n",
       "      <td>201933</td>\n",
       "      <td>0.266</td>\n",
       "      <td>0.0596</td>\n",
       "      <td>0</td>\n",
       "      <td>-18.515</td>\n",
       "      <td>1</td>\n",
       "      <td>0.0363</td>\n",
       "      <td>0.9050</td>\n",
       "      <td>0.000071</td>\n",
       "      <td>0.1320</td>\n",
       "      <td>...</td>\n",
       "      <td>False</td>\n",
       "      <td>False</td>\n",
       "      <td>False</td>\n",
       "      <td>False</td>\n",
       "      <td>False</td>\n",
       "      <td>False</td>\n",
       "      <td>False</td>\n",
       "      <td>False</td>\n",
       "      <td>False</td>\n",
       "      <td>False</td>\n",
       "    </tr>\n",
       "    <tr>\n",
       "      <th>4</th>\n",
       "      <td>198853</td>\n",
       "      <td>0.618</td>\n",
       "      <td>0.4430</td>\n",
       "      <td>2</td>\n",
       "      <td>-9.681</td>\n",
       "      <td>1</td>\n",
       "      <td>0.0526</td>\n",
       "      <td>0.4690</td>\n",
       "      <td>0.000000</td>\n",
       "      <td>0.0829</td>\n",
       "      <td>...</td>\n",
       "      <td>False</td>\n",
       "      <td>False</td>\n",
       "      <td>False</td>\n",
       "      <td>False</td>\n",
       "      <td>False</td>\n",
       "      <td>False</td>\n",
       "      <td>False</td>\n",
       "      <td>False</td>\n",
       "      <td>False</td>\n",
       "      <td>False</td>\n",
       "    </tr>\n",
       "  </tbody>\n",
       "</table>\n",
       "<p>5 rows × 128 columns</p>\n",
       "</div>"
      ],
      "text/plain": [
       "   duration_ms  danceability  energy  key  loudness  mode  speechiness  \\\n",
       "0       230666         0.676  0.4610    1    -6.746     0       0.1430   \n",
       "1       149610         0.420  0.1660    1   -17.235     1       0.0763   \n",
       "2       210826         0.438  0.3590    0    -9.734     1       0.0557   \n",
       "3       201933         0.266  0.0596    0   -18.515     1       0.0363   \n",
       "4       198853         0.618  0.4430    2    -9.681     1       0.0526   \n",
       "\n",
       "   acousticness  instrumentalness  liveness  ...  track_genre_spanish  \\\n",
       "0        0.0322          0.000001    0.3580  ...                False   \n",
       "1        0.9240          0.000006    0.1010  ...                False   \n",
       "2        0.2100          0.000000    0.1170  ...                False   \n",
       "3        0.9050          0.000071    0.1320  ...                False   \n",
       "4        0.4690          0.000000    0.0829  ...                False   \n",
       "\n",
       "   track_genre_study  track_genre_swedish  track_genre_synth-pop  \\\n",
       "0              False                False                  False   \n",
       "1              False                False                  False   \n",
       "2              False                False                  False   \n",
       "3              False                False                  False   \n",
       "4              False                False                  False   \n",
       "\n",
       "   track_genre_tango  track_genre_techno  track_genre_trance  \\\n",
       "0              False               False               False   \n",
       "1              False               False               False   \n",
       "2              False               False               False   \n",
       "3              False               False               False   \n",
       "4              False               False               False   \n",
       "\n",
       "   track_genre_trip-hop  track_genre_turkish  track_genre_world-music  \n",
       "0                 False                False                    False  \n",
       "1                 False                False                    False  \n",
       "2                 False                False                    False  \n",
       "3                 False                False                    False  \n",
       "4                 False                False                    False  \n",
       "\n",
       "[5 rows x 128 columns]"
      ]
     },
     "execution_count": 45,
     "metadata": {},
     "output_type": "execute_result"
    }
   ],
   "source": [
    "dummies_var = [\"explicit\",\"track_genre\"]\n",
    "data3 = pd.get_dummies(data2, prefix=dummies_var, columns=dummies_var, drop_first=True )\n",
    "data3.head()"
   ]
  },
  {
   "cell_type": "markdown",
   "metadata": {
    "id": "4sMCSkJOyQx0"
   },
   "source": [
    "## **7.PREDICTION MODEL**"
   ]
  },
  {
   "cell_type": "code",
   "execution_count": 46,
   "metadata": {
    "id": "jiJ0-GCaxvVt"
   },
   "outputs": [],
   "source": [
    "# Putting feature variable to X\n",
    "X = data3.drop(['popularity_flag'],axis=1)\n",
    "\n",
    "# Putting response variable to y\n",
    "y = data3['popularity_flag']"
   ]
  },
  {
   "cell_type": "markdown",
   "metadata": {
    "id": "5s16Ztzx2FIO"
   },
   "source": [
    "### **XGBOOST CLASSIFIER ALGORITHM**"
   ]
  },
  {
   "cell_type": "code",
   "execution_count": 47,
   "metadata": {
    "colab": {
     "base_uri": "https://localhost:8080/"
    },
    "id": "UPu9UTqPykLe",
    "outputId": "a1f2d34a-0b70-4582-f5c1-c0c880c7c5be"
   },
   "outputs": [
    {
     "name": "stdout",
     "output_type": "stream",
     "text": [
      "12718    0\n",
      "32019    1\n",
      "4408     0\n",
      "16532    0\n",
      "92121    0\n",
      "        ..\n",
      "67243    0\n",
      "89433    0\n",
      "98389    0\n",
      "79682    1\n",
      "74648    0\n",
      "Name: popularity_flag, Length: 85499, dtype: int64\n"
     ]
    }
   ],
   "source": [
    "# Importing the XGBoost library and its classifier class\n",
    "import xgboost as xgb\n",
    "from xgboost import XGBClassifier\n",
    "from sklearn.model_selection import train_test_split\n",
    "from sklearn.metrics import accuracy_score, confusion_matrix\n",
    "\n",
    "# Initializing an XGBoost classifier model with 1000 trees (estimators) and a random seed for reproducibility\n",
    "xgb_model = XGBClassifier(n_estimators=1000, seed=123)\n",
    "\n",
    "# Proceed with train-test split\n",
    "X_train, X_test, y_train, y_test = train_test_split(X, y)\n",
    "print(y_train)"
   ]
  },
  {
   "cell_type": "code",
   "execution_count": 48,
   "metadata": {
    "colab": {
     "base_uri": "https://localhost:8080/",
     "height": 254
    },
    "id": "SZV9OAcryotX",
    "outputId": "13faaede-466c-4841-dafe-8381baa70f0a"
   },
   "outputs": [
    {
     "data": {
      "text/html": [
       "<style>#sk-container-id-1 {\n",
       "  /* Definition of color scheme common for light and dark mode */\n",
       "  --sklearn-color-text: black;\n",
       "  --sklearn-color-line: gray;\n",
       "  /* Definition of color scheme for unfitted estimators */\n",
       "  --sklearn-color-unfitted-level-0: #fff5e6;\n",
       "  --sklearn-color-unfitted-level-1: #f6e4d2;\n",
       "  --sklearn-color-unfitted-level-2: #ffe0b3;\n",
       "  --sklearn-color-unfitted-level-3: chocolate;\n",
       "  /* Definition of color scheme for fitted estimators */\n",
       "  --sklearn-color-fitted-level-0: #f0f8ff;\n",
       "  --sklearn-color-fitted-level-1: #d4ebff;\n",
       "  --sklearn-color-fitted-level-2: #b3dbfd;\n",
       "  --sklearn-color-fitted-level-3: cornflowerblue;\n",
       "\n",
       "  /* Specific color for light theme */\n",
       "  --sklearn-color-text-on-default-background: var(--sg-text-color, var(--theme-code-foreground, var(--jp-content-font-color1, black)));\n",
       "  --sklearn-color-background: var(--sg-background-color, var(--theme-background, var(--jp-layout-color0, white)));\n",
       "  --sklearn-color-border-box: var(--sg-text-color, var(--theme-code-foreground, var(--jp-content-font-color1, black)));\n",
       "  --sklearn-color-icon: #696969;\n",
       "\n",
       "  @media (prefers-color-scheme: dark) {\n",
       "    /* Redefinition of color scheme for dark theme */\n",
       "    --sklearn-color-text-on-default-background: var(--sg-text-color, var(--theme-code-foreground, var(--jp-content-font-color1, white)));\n",
       "    --sklearn-color-background: var(--sg-background-color, var(--theme-background, var(--jp-layout-color0, #111)));\n",
       "    --sklearn-color-border-box: var(--sg-text-color, var(--theme-code-foreground, var(--jp-content-font-color1, white)));\n",
       "    --sklearn-color-icon: #878787;\n",
       "  }\n",
       "}\n",
       "\n",
       "#sk-container-id-1 {\n",
       "  color: var(--sklearn-color-text);\n",
       "}\n",
       "\n",
       "#sk-container-id-1 pre {\n",
       "  padding: 0;\n",
       "}\n",
       "\n",
       "#sk-container-id-1 input.sk-hidden--visually {\n",
       "  border: 0;\n",
       "  clip: rect(1px 1px 1px 1px);\n",
       "  clip: rect(1px, 1px, 1px, 1px);\n",
       "  height: 1px;\n",
       "  margin: -1px;\n",
       "  overflow: hidden;\n",
       "  padding: 0;\n",
       "  position: absolute;\n",
       "  width: 1px;\n",
       "}\n",
       "\n",
       "#sk-container-id-1 div.sk-dashed-wrapped {\n",
       "  border: 1px dashed var(--sklearn-color-line);\n",
       "  margin: 0 0.4em 0.5em 0.4em;\n",
       "  box-sizing: border-box;\n",
       "  padding-bottom: 0.4em;\n",
       "  background-color: var(--sklearn-color-background);\n",
       "}\n",
       "\n",
       "#sk-container-id-1 div.sk-container {\n",
       "  /* jupyter's `normalize.less` sets `[hidden] { display: none; }`\n",
       "     but bootstrap.min.css set `[hidden] { display: none !important; }`\n",
       "     so we also need the `!important` here to be able to override the\n",
       "     default hidden behavior on the sphinx rendered scikit-learn.org.\n",
       "     See: https://github.com/scikit-learn/scikit-learn/issues/21755 */\n",
       "  display: inline-block !important;\n",
       "  position: relative;\n",
       "}\n",
       "\n",
       "#sk-container-id-1 div.sk-text-repr-fallback {\n",
       "  display: none;\n",
       "}\n",
       "\n",
       "div.sk-parallel-item,\n",
       "div.sk-serial,\n",
       "div.sk-item {\n",
       "  /* draw centered vertical line to link estimators */\n",
       "  background-image: linear-gradient(var(--sklearn-color-text-on-default-background), var(--sklearn-color-text-on-default-background));\n",
       "  background-size: 2px 100%;\n",
       "  background-repeat: no-repeat;\n",
       "  background-position: center center;\n",
       "}\n",
       "\n",
       "/* Parallel-specific style estimator block */\n",
       "\n",
       "#sk-container-id-1 div.sk-parallel-item::after {\n",
       "  content: \"\";\n",
       "  width: 100%;\n",
       "  border-bottom: 2px solid var(--sklearn-color-text-on-default-background);\n",
       "  flex-grow: 1;\n",
       "}\n",
       "\n",
       "#sk-container-id-1 div.sk-parallel {\n",
       "  display: flex;\n",
       "  align-items: stretch;\n",
       "  justify-content: center;\n",
       "  background-color: var(--sklearn-color-background);\n",
       "  position: relative;\n",
       "}\n",
       "\n",
       "#sk-container-id-1 div.sk-parallel-item {\n",
       "  display: flex;\n",
       "  flex-direction: column;\n",
       "}\n",
       "\n",
       "#sk-container-id-1 div.sk-parallel-item:first-child::after {\n",
       "  align-self: flex-end;\n",
       "  width: 50%;\n",
       "}\n",
       "\n",
       "#sk-container-id-1 div.sk-parallel-item:last-child::after {\n",
       "  align-self: flex-start;\n",
       "  width: 50%;\n",
       "}\n",
       "\n",
       "#sk-container-id-1 div.sk-parallel-item:only-child::after {\n",
       "  width: 0;\n",
       "}\n",
       "\n",
       "/* Serial-specific style estimator block */\n",
       "\n",
       "#sk-container-id-1 div.sk-serial {\n",
       "  display: flex;\n",
       "  flex-direction: column;\n",
       "  align-items: center;\n",
       "  background-color: var(--sklearn-color-background);\n",
       "  padding-right: 1em;\n",
       "  padding-left: 1em;\n",
       "}\n",
       "\n",
       "\n",
       "/* Toggleable style: style used for estimator/Pipeline/ColumnTransformer box that is\n",
       "clickable and can be expanded/collapsed.\n",
       "- Pipeline and ColumnTransformer use this feature and define the default style\n",
       "- Estimators will overwrite some part of the style using the `sk-estimator` class\n",
       "*/\n",
       "\n",
       "/* Pipeline and ColumnTransformer style (default) */\n",
       "\n",
       "#sk-container-id-1 div.sk-toggleable {\n",
       "  /* Default theme specific background. It is overwritten whether we have a\n",
       "  specific estimator or a Pipeline/ColumnTransformer */\n",
       "  background-color: var(--sklearn-color-background);\n",
       "}\n",
       "\n",
       "/* Toggleable label */\n",
       "#sk-container-id-1 label.sk-toggleable__label {\n",
       "  cursor: pointer;\n",
       "  display: block;\n",
       "  width: 100%;\n",
       "  margin-bottom: 0;\n",
       "  padding: 0.5em;\n",
       "  box-sizing: border-box;\n",
       "  text-align: center;\n",
       "}\n",
       "\n",
       "#sk-container-id-1 label.sk-toggleable__label-arrow:before {\n",
       "  /* Arrow on the left of the label */\n",
       "  content: \"▸\";\n",
       "  float: left;\n",
       "  margin-right: 0.25em;\n",
       "  color: var(--sklearn-color-icon);\n",
       "}\n",
       "\n",
       "#sk-container-id-1 label.sk-toggleable__label-arrow:hover:before {\n",
       "  color: var(--sklearn-color-text);\n",
       "}\n",
       "\n",
       "/* Toggleable content - dropdown */\n",
       "\n",
       "#sk-container-id-1 div.sk-toggleable__content {\n",
       "  max-height: 0;\n",
       "  max-width: 0;\n",
       "  overflow: hidden;\n",
       "  text-align: left;\n",
       "  /* unfitted */\n",
       "  background-color: var(--sklearn-color-unfitted-level-0);\n",
       "}\n",
       "\n",
       "#sk-container-id-1 div.sk-toggleable__content.fitted {\n",
       "  /* fitted */\n",
       "  background-color: var(--sklearn-color-fitted-level-0);\n",
       "}\n",
       "\n",
       "#sk-container-id-1 div.sk-toggleable__content pre {\n",
       "  margin: 0.2em;\n",
       "  border-radius: 0.25em;\n",
       "  color: var(--sklearn-color-text);\n",
       "  /* unfitted */\n",
       "  background-color: var(--sklearn-color-unfitted-level-0);\n",
       "}\n",
       "\n",
       "#sk-container-id-1 div.sk-toggleable__content.fitted pre {\n",
       "  /* unfitted */\n",
       "  background-color: var(--sklearn-color-fitted-level-0);\n",
       "}\n",
       "\n",
       "#sk-container-id-1 input.sk-toggleable__control:checked~div.sk-toggleable__content {\n",
       "  /* Expand drop-down */\n",
       "  max-height: 200px;\n",
       "  max-width: 100%;\n",
       "  overflow: auto;\n",
       "}\n",
       "\n",
       "#sk-container-id-1 input.sk-toggleable__control:checked~label.sk-toggleable__label-arrow:before {\n",
       "  content: \"▾\";\n",
       "}\n",
       "\n",
       "/* Pipeline/ColumnTransformer-specific style */\n",
       "\n",
       "#sk-container-id-1 div.sk-label input.sk-toggleable__control:checked~label.sk-toggleable__label {\n",
       "  color: var(--sklearn-color-text);\n",
       "  background-color: var(--sklearn-color-unfitted-level-2);\n",
       "}\n",
       "\n",
       "#sk-container-id-1 div.sk-label.fitted input.sk-toggleable__control:checked~label.sk-toggleable__label {\n",
       "  background-color: var(--sklearn-color-fitted-level-2);\n",
       "}\n",
       "\n",
       "/* Estimator-specific style */\n",
       "\n",
       "/* Colorize estimator box */\n",
       "#sk-container-id-1 div.sk-estimator input.sk-toggleable__control:checked~label.sk-toggleable__label {\n",
       "  /* unfitted */\n",
       "  background-color: var(--sklearn-color-unfitted-level-2);\n",
       "}\n",
       "\n",
       "#sk-container-id-1 div.sk-estimator.fitted input.sk-toggleable__control:checked~label.sk-toggleable__label {\n",
       "  /* fitted */\n",
       "  background-color: var(--sklearn-color-fitted-level-2);\n",
       "}\n",
       "\n",
       "#sk-container-id-1 div.sk-label label.sk-toggleable__label,\n",
       "#sk-container-id-1 div.sk-label label {\n",
       "  /* The background is the default theme color */\n",
       "  color: var(--sklearn-color-text-on-default-background);\n",
       "}\n",
       "\n",
       "/* On hover, darken the color of the background */\n",
       "#sk-container-id-1 div.sk-label:hover label.sk-toggleable__label {\n",
       "  color: var(--sklearn-color-text);\n",
       "  background-color: var(--sklearn-color-unfitted-level-2);\n",
       "}\n",
       "\n",
       "/* Label box, darken color on hover, fitted */\n",
       "#sk-container-id-1 div.sk-label.fitted:hover label.sk-toggleable__label.fitted {\n",
       "  color: var(--sklearn-color-text);\n",
       "  background-color: var(--sklearn-color-fitted-level-2);\n",
       "}\n",
       "\n",
       "/* Estimator label */\n",
       "\n",
       "#sk-container-id-1 div.sk-label label {\n",
       "  font-family: monospace;\n",
       "  font-weight: bold;\n",
       "  display: inline-block;\n",
       "  line-height: 1.2em;\n",
       "}\n",
       "\n",
       "#sk-container-id-1 div.sk-label-container {\n",
       "  text-align: center;\n",
       "}\n",
       "\n",
       "/* Estimator-specific */\n",
       "#sk-container-id-1 div.sk-estimator {\n",
       "  font-family: monospace;\n",
       "  border: 1px dotted var(--sklearn-color-border-box);\n",
       "  border-radius: 0.25em;\n",
       "  box-sizing: border-box;\n",
       "  margin-bottom: 0.5em;\n",
       "  /* unfitted */\n",
       "  background-color: var(--sklearn-color-unfitted-level-0);\n",
       "}\n",
       "\n",
       "#sk-container-id-1 div.sk-estimator.fitted {\n",
       "  /* fitted */\n",
       "  background-color: var(--sklearn-color-fitted-level-0);\n",
       "}\n",
       "\n",
       "/* on hover */\n",
       "#sk-container-id-1 div.sk-estimator:hover {\n",
       "  /* unfitted */\n",
       "  background-color: var(--sklearn-color-unfitted-level-2);\n",
       "}\n",
       "\n",
       "#sk-container-id-1 div.sk-estimator.fitted:hover {\n",
       "  /* fitted */\n",
       "  background-color: var(--sklearn-color-fitted-level-2);\n",
       "}\n",
       "\n",
       "/* Specification for estimator info (e.g. \"i\" and \"?\") */\n",
       "\n",
       "/* Common style for \"i\" and \"?\" */\n",
       "\n",
       ".sk-estimator-doc-link,\n",
       "a:link.sk-estimator-doc-link,\n",
       "a:visited.sk-estimator-doc-link {\n",
       "  float: right;\n",
       "  font-size: smaller;\n",
       "  line-height: 1em;\n",
       "  font-family: monospace;\n",
       "  background-color: var(--sklearn-color-background);\n",
       "  border-radius: 1em;\n",
       "  height: 1em;\n",
       "  width: 1em;\n",
       "  text-decoration: none !important;\n",
       "  margin-left: 1ex;\n",
       "  /* unfitted */\n",
       "  border: var(--sklearn-color-unfitted-level-1) 1pt solid;\n",
       "  color: var(--sklearn-color-unfitted-level-1);\n",
       "}\n",
       "\n",
       ".sk-estimator-doc-link.fitted,\n",
       "a:link.sk-estimator-doc-link.fitted,\n",
       "a:visited.sk-estimator-doc-link.fitted {\n",
       "  /* fitted */\n",
       "  border: var(--sklearn-color-fitted-level-1) 1pt solid;\n",
       "  color: var(--sklearn-color-fitted-level-1);\n",
       "}\n",
       "\n",
       "/* On hover */\n",
       "div.sk-estimator:hover .sk-estimator-doc-link:hover,\n",
       ".sk-estimator-doc-link:hover,\n",
       "div.sk-label-container:hover .sk-estimator-doc-link:hover,\n",
       ".sk-estimator-doc-link:hover {\n",
       "  /* unfitted */\n",
       "  background-color: var(--sklearn-color-unfitted-level-3);\n",
       "  color: var(--sklearn-color-background);\n",
       "  text-decoration: none;\n",
       "}\n",
       "\n",
       "div.sk-estimator.fitted:hover .sk-estimator-doc-link.fitted:hover,\n",
       ".sk-estimator-doc-link.fitted:hover,\n",
       "div.sk-label-container:hover .sk-estimator-doc-link.fitted:hover,\n",
       ".sk-estimator-doc-link.fitted:hover {\n",
       "  /* fitted */\n",
       "  background-color: var(--sklearn-color-fitted-level-3);\n",
       "  color: var(--sklearn-color-background);\n",
       "  text-decoration: none;\n",
       "}\n",
       "\n",
       "/* Span, style for the box shown on hovering the info icon */\n",
       ".sk-estimator-doc-link span {\n",
       "  display: none;\n",
       "  z-index: 9999;\n",
       "  position: relative;\n",
       "  font-weight: normal;\n",
       "  right: .2ex;\n",
       "  padding: .5ex;\n",
       "  margin: .5ex;\n",
       "  width: min-content;\n",
       "  min-width: 20ex;\n",
       "  max-width: 50ex;\n",
       "  color: var(--sklearn-color-text);\n",
       "  box-shadow: 2pt 2pt 4pt #999;\n",
       "  /* unfitted */\n",
       "  background: var(--sklearn-color-unfitted-level-0);\n",
       "  border: .5pt solid var(--sklearn-color-unfitted-level-3);\n",
       "}\n",
       "\n",
       ".sk-estimator-doc-link.fitted span {\n",
       "  /* fitted */\n",
       "  background: var(--sklearn-color-fitted-level-0);\n",
       "  border: var(--sklearn-color-fitted-level-3);\n",
       "}\n",
       "\n",
       ".sk-estimator-doc-link:hover span {\n",
       "  display: block;\n",
       "}\n",
       "\n",
       "/* \"?\"-specific style due to the `<a>` HTML tag */\n",
       "\n",
       "#sk-container-id-1 a.estimator_doc_link {\n",
       "  float: right;\n",
       "  font-size: 1rem;\n",
       "  line-height: 1em;\n",
       "  font-family: monospace;\n",
       "  background-color: var(--sklearn-color-background);\n",
       "  border-radius: 1rem;\n",
       "  height: 1rem;\n",
       "  width: 1rem;\n",
       "  text-decoration: none;\n",
       "  /* unfitted */\n",
       "  color: var(--sklearn-color-unfitted-level-1);\n",
       "  border: var(--sklearn-color-unfitted-level-1) 1pt solid;\n",
       "}\n",
       "\n",
       "#sk-container-id-1 a.estimator_doc_link.fitted {\n",
       "  /* fitted */\n",
       "  border: var(--sklearn-color-fitted-level-1) 1pt solid;\n",
       "  color: var(--sklearn-color-fitted-level-1);\n",
       "}\n",
       "\n",
       "/* On hover */\n",
       "#sk-container-id-1 a.estimator_doc_link:hover {\n",
       "  /* unfitted */\n",
       "  background-color: var(--sklearn-color-unfitted-level-3);\n",
       "  color: var(--sklearn-color-background);\n",
       "  text-decoration: none;\n",
       "}\n",
       "\n",
       "#sk-container-id-1 a.estimator_doc_link.fitted:hover {\n",
       "  /* fitted */\n",
       "  background-color: var(--sklearn-color-fitted-level-3);\n",
       "}\n",
       "</style><div id=\"sk-container-id-1\" class=\"sk-top-container\"><div class=\"sk-text-repr-fallback\"><pre>XGBClassifier(base_score=None, booster=None, callbacks=None,\n",
       "              colsample_bylevel=None, colsample_bynode=None,\n",
       "              colsample_bytree=None, device=None, early_stopping_rounds=None,\n",
       "              enable_categorical=False, eval_metric=None, feature_types=None,\n",
       "              gamma=None, grow_policy=None, importance_type=None,\n",
       "              interaction_constraints=None, learning_rate=None, max_bin=None,\n",
       "              max_cat_threshold=None, max_cat_to_onehot=None,\n",
       "              max_delta_step=None, max_depth=None, max_leaves=None,\n",
       "              min_child_weight=None, missing=nan, monotone_constraints=None,\n",
       "              multi_strategy=None, n_estimators=1000, n_jobs=None,\n",
       "              num_parallel_tree=None, random_state=None, ...)</pre><b>In a Jupyter environment, please rerun this cell to show the HTML representation or trust the notebook. <br />On GitHub, the HTML representation is unable to render, please try loading this page with nbviewer.org.</b></div><div class=\"sk-container\" hidden><div class=\"sk-item\"><div class=\"sk-estimator fitted sk-toggleable\"><input class=\"sk-toggleable__control sk-hidden--visually\" id=\"sk-estimator-id-1\" type=\"checkbox\" checked><label for=\"sk-estimator-id-1\" class=\"sk-toggleable__label fitted sk-toggleable__label-arrow fitted\">&nbsp;XGBClassifier<span class=\"sk-estimator-doc-link fitted\">i<span>Fitted</span></span></label><div class=\"sk-toggleable__content fitted\"><pre>XGBClassifier(base_score=None, booster=None, callbacks=None,\n",
       "              colsample_bylevel=None, colsample_bynode=None,\n",
       "              colsample_bytree=None, device=None, early_stopping_rounds=None,\n",
       "              enable_categorical=False, eval_metric=None, feature_types=None,\n",
       "              gamma=None, grow_policy=None, importance_type=None,\n",
       "              interaction_constraints=None, learning_rate=None, max_bin=None,\n",
       "              max_cat_threshold=None, max_cat_to_onehot=None,\n",
       "              max_delta_step=None, max_depth=None, max_leaves=None,\n",
       "              min_child_weight=None, missing=nan, monotone_constraints=None,\n",
       "              multi_strategy=None, n_estimators=1000, n_jobs=None,\n",
       "              num_parallel_tree=None, random_state=None, ...)</pre></div> </div></div></div></div>"
      ],
      "text/plain": [
       "XGBClassifier(base_score=None, booster=None, callbacks=None,\n",
       "              colsample_bylevel=None, colsample_bynode=None,\n",
       "              colsample_bytree=None, device=None, early_stopping_rounds=None,\n",
       "              enable_categorical=False, eval_metric=None, feature_types=None,\n",
       "              gamma=None, grow_policy=None, importance_type=None,\n",
       "              interaction_constraints=None, learning_rate=None, max_bin=None,\n",
       "              max_cat_threshold=None, max_cat_to_onehot=None,\n",
       "              max_delta_step=None, max_depth=None, max_leaves=None,\n",
       "              min_child_weight=None, missing=nan, monotone_constraints=None,\n",
       "              multi_strategy=None, n_estimators=1000, n_jobs=None,\n",
       "              num_parallel_tree=None, random_state=None, ...)"
      ]
     },
     "execution_count": 48,
     "metadata": {},
     "output_type": "execute_result"
    }
   ],
   "source": [
    "xgb_model.fit(X_train, y_train)"
   ]
  },
  {
   "cell_type": "code",
   "execution_count": 49,
   "metadata": {
    "colab": {
     "base_uri": "https://localhost:8080/",
     "height": 497
    },
    "id": "2swUBLFDyovU",
    "outputId": "2fbc460c-d50e-4d30-9de4-9c539aefafc6"
   },
   "outputs": [
    {
     "data": {
      "image/png": "[encoded data removed]",
      "text/plain": [
       "<Figure size 500x500 with 1 Axes>"
      ]
     },
     "metadata": {},
     "output_type": "display_data"
    }
   ],
   "source": [
    "# Predicting target values for the training and test sets using the XGBoost model\n",
    "y_train_predxgb = xgb_model.predict(X_train)\n",
    "y_test_predxgb = xgb_model.predict(X_test)\n",
    "\n",
    "# Compute the confusion matrix for the test set predictions\n",
    "conf_matrix_xgb = confusion_matrix(y_true=y_test, y_pred=y_test_predxgb)\n",
    "\n",
    "# Plot the confusion matrix using Matplotlib\n",
    "fig, ax = plt.subplots(figsize=(5, 5))  # Create a figure with specified size\n",
    "ax.matshow(conf_matrix_xgb, cmap=plt.cm.Oranges, alpha=0.3)  # Display the confusion matrix with a color gradient\n",
    "\n",
    "# Annotate the confusion matrix with actual values\n",
    "for i in range(conf_matrix_xgb.shape[0]):\n",
    "    for j in range(conf_matrix_xgb.shape[1]):\n",
    "        ax.text(x=j, y=i, s=conf_matrix_xgb[i, j], va='center', ha='center', size='xx-large')\n",
    "\n",
    "# Set the labels for axes and the plot title\n",
    "plt.xlabel('Predictions', fontsize=10)\n",
    "plt.ylabel('Actuals', fontsize=10)\n",
    "plt.title('Confusion Matrix', fontsize=10)\n",
    "\n",
    "# Display the plot\n",
    "plt.show()"
   ]
  },
  {
   "cell_type": "code",
   "execution_count": 50,
   "metadata": {
    "colab": {
     "base_uri": "https://localhost:8080/"
    },
    "id": "dhtv6h63yox1",
    "outputId": "d9b31403-849f-42eb-8c17-f132827e3b6e"
   },
   "outputs": [
    {
     "name": "stdout",
     "output_type": "stream",
     "text": [
      "Accuracy:  0.8439649122807018\n",
      "Precision:  0.9282542325839578\n",
      "Recall:  0.8738840743805252\n"
     ]
    }
   ],
   "source": [
    "print(\"Accuracy: \", (conf_matrix_xgb[0,0]+conf_matrix_xgb[1,1])/(conf_matrix_xgb[0,0]+conf_matrix_xgb[1,1]+conf_matrix_xgb[0,1]+conf_matrix_xgb[1,0]) )\n",
    "print(\"Precision: \", (conf_matrix_xgb[0,0])/(conf_matrix_xgb[0,0]+conf_matrix_xgb[0,1]) )\n",
    "print(\"Recall: \", (conf_matrix_xgb[0,0])/(conf_matrix_xgb[0,0]+conf_matrix_xgb[1,0]) )"
   ]
  },
  {
   "cell_type": "code",
   "execution_count": 51,
   "metadata": {
    "colab": {
     "base_uri": "https://localhost:8080/"
    },
    "id": "IBMLvXu-ti4s",
    "outputId": "d6810fee-8bbc-47c0-f683-e98f7a7da780"
   },
   "outputs": [
    {
     "name": "stdout",
     "output_type": "stream",
     "text": [
      "['duration_ms', 'danceability', 'energy', 'key', 'loudness', 'mode', 'speechiness', 'acousticness', 'instrumentalness', 'liveness', 'valence', 'tempo', 'time_signature', 'explicit_True', 'track_genre_afrobeat', 'track_genre_alt-rock', 'track_genre_alternative', 'track_genre_ambient', 'track_genre_anime', 'track_genre_black-metal', 'track_genre_bluegrass', 'track_genre_blues', 'track_genre_brazil', 'track_genre_breakbeat', 'track_genre_british', 'track_genre_cantopop', 'track_genre_chicago-house', 'track_genre_children', 'track_genre_chill', 'track_genre_classical', 'track_genre_club', 'track_genre_comedy', 'track_genre_country', 'track_genre_dance', 'track_genre_dancehall', 'track_genre_death-metal', 'track_genre_deep-house', 'track_genre_detroit-techno', 'track_genre_disco', 'track_genre_disney', 'track_genre_drum-and-bass', 'track_genre_dub', 'track_genre_dubstep', 'track_genre_edm', 'track_genre_electro', 'track_genre_electronic', 'track_genre_emo', 'track_genre_folk', 'track_genre_forro', 'track_genre_french', 'track_genre_funk', 'track_genre_garage', 'track_genre_german', 'track_genre_gospel', 'track_genre_goth', 'track_genre_grindcore', 'track_genre_groove', 'track_genre_grunge', 'track_genre_guitar', 'track_genre_happy', 'track_genre_hard-rock', 'track_genre_hardcore', 'track_genre_hardstyle', 'track_genre_heavy-metal', 'track_genre_hip-hop', 'track_genre_honky-tonk', 'track_genre_house', 'track_genre_idm', 'track_genre_indian', 'track_genre_indie', 'track_genre_indie-pop', 'track_genre_industrial', 'track_genre_iranian', 'track_genre_j-dance', 'track_genre_j-idol', 'track_genre_j-pop', 'track_genre_j-rock', 'track_genre_jazz', 'track_genre_k-pop', 'track_genre_kids', 'track_genre_latin', 'track_genre_latino', 'track_genre_malay', 'track_genre_mandopop', 'track_genre_metal', 'track_genre_metalcore', 'track_genre_minimal-techno', 'track_genre_mpb', 'track_genre_new-age', 'track_genre_opera', 'track_genre_pagode', 'track_genre_party', 'track_genre_piano', 'track_genre_pop', 'track_genre_pop-film', 'track_genre_power-pop', 'track_genre_progressive-house', 'track_genre_psych-rock', 'track_genre_punk', 'track_genre_punk-rock', 'track_genre_r-n-b', 'track_genre_reggae', 'track_genre_reggaeton', 'track_genre_rock', 'track_genre_rock-n-roll', 'track_genre_rockabilly', 'track_genre_romance', 'track_genre_sad', 'track_genre_salsa', 'track_genre_samba', 'track_genre_sertanejo', 'track_genre_show-tunes', 'track_genre_singer-songwriter', 'track_genre_ska', 'track_genre_sleep', 'track_genre_songwriter', 'track_genre_soul', 'track_genre_spanish', 'track_genre_study', 'track_genre_swedish', 'track_genre_synth-pop', 'track_genre_tango', 'track_genre_techno', 'track_genre_trance', 'track_genre_trip-hop', 'track_genre_turkish', 'track_genre_world-music']\n"
     ]
    }
   ],
   "source": [
    "feature_names = xgb_model.get_booster().feature_names\n",
    "print(feature_names)"
   ]
  },
  {
   "cell_type": "markdown",
   "metadata": {
    "id": "g-aa-aON67CL"
   },
   "source": [
    "## **8.User Interface**"
   ]
  },
  {
   "cell_type": "code",
   "execution_count": 52,
   "metadata": {
    "colab": {
     "base_uri": "https://localhost:8080/"
    },
    "id": "uzCkhvpHtOQ8",
    "outputId": "0a40f4c7-5e42-47cf-cc68-2f6881666968"
   },
   "outputs": [
    {
     "name": "stdout",
     "output_type": "stream",
     "text": [
      "Requirement already satisfied: streamlit in c:\\users\\shaha\\appdata\\local\\programs\\python\\python312\\lib\\site-packages (1.30.0)Note: you may need to restart the kernel to use updated packages.\n"
     ]
    },
    {
     "name": "stderr",
     "output_type": "stream",
     "text": [
      "\n",
      "[notice] A new release of pip is available: 23.2.1 -> 24.2\n",
      "[notice] To update, run: python.exe -m pip install --upgrade pip\n"
     ]
    },
    {
     "name": "stdout",
     "output_type": "stream",
     "text": [
      "\n",
      "Requirement already satisfied: altair<6,>=4.0 in c:\\users\\shaha\\appdata\\local\\programs\\python\\python312\\lib\\site-packages (from streamlit) (5.2.0)\n",
      "Requirement already satisfied: blinker<2,>=1.0.0 in c:\\users\\shaha\\appdata\\local\\programs\\python\\python312\\lib\\site-packages (from streamlit) (1.7.0)\n",
      "Requirement already satisfied: cachetools<6,>=4.0 in c:\\users\\shaha\\appdata\\local\\programs\\python\\python312\\lib\\site-packages (from streamlit) (5.3.2)\n",
      "Requirement already satisfied: click<9,>=7.0 in c:\\users\\shaha\\appdata\\local\\programs\\python\\python312\\lib\\site-packages (from streamlit) (8.1.7)\n",
      "Requirement already satisfied: importlib-metadata<8,>=1.4 in c:\\users\\shaha\\appdata\\local\\programs\\python\\python312\\lib\\site-packages (from streamlit) (7.0.1)\n",
      "Requirement already satisfied: numpy<2,>=1.19.3 in c:\\users\\shaha\\appdata\\local\\programs\\python\\python312\\lib\\site-packages (from streamlit) (1.26.2)\n",
      "Requirement already satisfied: packaging<24,>=16.8 in c:\\users\\shaha\\appdata\\local\\programs\\python\\python312\\lib\\site-packages (from streamlit) (23.2)\n",
      "Requirement already satisfied: pandas<3,>=1.3.0 in c:\\users\\shaha\\appdata\\local\\programs\\python\\python312\\lib\\site-packages (from streamlit) (2.1.4)\n",
      "Requirement already satisfied: pillow<11,>=7.1.0 in c:\\users\\shaha\\appdata\\local\\programs\\python\\python312\\lib\\site-packages (from streamlit) (10.2.0)\n",
      "Requirement already satisfied: protobuf<5,>=3.20 in c:\\users\\shaha\\appdata\\local\\programs\\python\\python312\\lib\\site-packages (from streamlit) (4.21.12)\n",
      "Requirement already satisfied: pyarrow>=6.0 in c:\\users\\shaha\\appdata\\local\\programs\\python\\python312\\lib\\site-packages (from streamlit) (14.0.2)\n",
      "Requirement already satisfied: python-dateutil<3,>=2.7.3 in c:\\users\\shaha\\appdata\\local\\programs\\python\\python312\\lib\\site-packages (from streamlit) (2.8.2)\n",
      "Requirement already satisfied: requests<3,>=2.27 in c:\\users\\shaha\\appdata\\local\\programs\\python\\python312\\lib\\site-packages (from streamlit) (2.31.0)\n",
      "Requirement already satisfied: rich<14,>=10.14.0 in c:\\users\\shaha\\appdata\\local\\programs\\python\\python312\\lib\\site-packages (from streamlit) (13.7.0)\n",
      "Requirement already satisfied: tenacity<9,>=8.1.0 in c:\\users\\shaha\\appdata\\local\\programs\\python\\python312\\lib\\site-packages (from streamlit) (8.2.3)\n",
      "Requirement already satisfied: toml<2,>=0.10.1 in c:\\users\\shaha\\appdata\\local\\programs\\python\\python312\\lib\\site-packages (from streamlit) (0.10.2)\n",
      "Requirement already satisfied: typing-extensions<5,>=4.3.0 in c:\\users\\shaha\\appdata\\local\\programs\\python\\python312\\lib\\site-packages (from streamlit) (4.9.0)\n",
      "Requirement already satisfied: tzlocal<6,>=1.1 in c:\\users\\shaha\\appdata\\local\\programs\\python\\python312\\lib\\site-packages (from streamlit) (5.2)\n",
      "Requirement already satisfied: validators<1,>=0.2 in c:\\users\\shaha\\appdata\\local\\programs\\python\\python312\\lib\\site-packages (from streamlit) (0.22.0)\n",
      "Requirement already satisfied: gitpython!=3.1.19,<4,>=3.0.7 in c:\\users\\shaha\\appdata\\local\\programs\\python\\python312\\lib\\site-packages (from streamlit) (3.1.41)\n",
      "Requirement already satisfied: pydeck<1,>=0.8.0b4 in c:\\users\\shaha\\appdata\\local\\programs\\python\\python312\\lib\\site-packages (from streamlit) (0.8.1b0)\n",
      "Requirement already satisfied: tornado<7,>=6.0.3 in c:\\users\\shaha\\appdata\\local\\programs\\python\\python312\\lib\\site-packages (from streamlit) (6.4)\n",
      "Requirement already satisfied: watchdog>=2.1.5 in c:\\users\\shaha\\appdata\\local\\programs\\python\\python312\\lib\\site-packages (from streamlit) (3.0.0)\n",
      "Requirement already satisfied: jinja2 in c:\\users\\shaha\\appdata\\local\\programs\\python\\python312\\lib\\site-packages (from altair<6,>=4.0->streamlit) (3.1.2)\n",
      "Requirement already satisfied: jsonschema>=3.0 in c:\\users\\shaha\\appdata\\local\\programs\\python\\python312\\lib\\site-packages (from altair<6,>=4.0->streamlit) (4.20.0)\n",
      "Requirement already satisfied: toolz in c:\\users\\shaha\\appdata\\local\\programs\\python\\python312\\lib\\site-packages (from altair<6,>=4.0->streamlit) (0.12.0)\n",
      "Requirement already satisfied: colorama in c:\\users\\shaha\\appdata\\local\\programs\\python\\python312\\lib\\site-packages (from click<9,>=7.0->streamlit) (0.4.6)\n",
      "Requirement already satisfied: gitdb<5,>=4.0.1 in c:\\users\\shaha\\appdata\\local\\programs\\python\\python312\\lib\\site-packages (from gitpython!=3.1.19,<4,>=3.0.7->streamlit) (4.0.11)\n",
      "Requirement already satisfied: zipp>=0.5 in c:\\users\\shaha\\appdata\\local\\programs\\python\\python312\\lib\\site-packages (from importlib-metadata<8,>=1.4->streamlit) (3.17.0)\n",
      "Requirement already satisfied: pytz>=2020.1 in c:\\users\\shaha\\appdata\\local\\programs\\python\\python312\\lib\\site-packages (from pandas<3,>=1.3.0->streamlit) (2023.3.post1)\n",
      "Requirement already satisfied: tzdata>=2022.1 in c:\\users\\shaha\\appdata\\local\\programs\\python\\python312\\lib\\site-packages (from pandas<3,>=1.3.0->streamlit) (2023.3)\n",
      "Requirement already satisfied: six>=1.5 in c:\\users\\shaha\\appdata\\local\\programs\\python\\python312\\lib\\site-packages (from python-dateutil<3,>=2.7.3->streamlit) (1.16.0)\n",
      "Requirement already satisfied: charset-normalizer<4,>=2 in c:\\users\\shaha\\appdata\\local\\programs\\python\\python312\\lib\\site-packages (from requests<3,>=2.27->streamlit) (3.3.2)\n",
      "Requirement already satisfied: idna<4,>=2.5 in c:\\users\\shaha\\appdata\\local\\programs\\python\\python312\\lib\\site-packages (from requests<3,>=2.27->streamlit) (3.6)\n",
      "Requirement already satisfied: urllib3<3,>=1.21.1 in c:\\users\\shaha\\appdata\\local\\programs\\python\\python312\\lib\\site-packages (from requests<3,>=2.27->streamlit) (2.1.0)\n",
      "Requirement already satisfied: certifi>=2017.4.17 in c:\\users\\shaha\\appdata\\local\\programs\\python\\python312\\lib\\site-packages (from requests<3,>=2.27->streamlit) (2023.11.17)\n",
      "Requirement already satisfied: markdown-it-py>=2.2.0 in c:\\users\\shaha\\appdata\\local\\programs\\python\\python312\\lib\\site-packages (from rich<14,>=10.14.0->streamlit) (3.0.0)\n",
      "Requirement already satisfied: pygments<3.0.0,>=2.13.0 in c:\\users\\shaha\\appdata\\local\\programs\\python\\python312\\lib\\site-packages (from rich<14,>=10.14.0->streamlit) (2.17.2)\n",
      "Requirement already satisfied: smmap<6,>=3.0.1 in c:\\users\\shaha\\appdata\\local\\programs\\python\\python312\\lib\\site-packages (from gitdb<5,>=4.0.1->gitpython!=3.1.19,<4,>=3.0.7->streamlit) (5.0.1)\n",
      "Requirement already satisfied: MarkupSafe>=2.0 in c:\\users\\shaha\\appdata\\local\\programs\\python\\python312\\lib\\site-packages (from jinja2->altair<6,>=4.0->streamlit) (2.1.3)\n",
      "Requirement already satisfied: attrs>=22.2.0 in c:\\users\\shaha\\appdata\\local\\programs\\python\\python312\\lib\\site-packages (from jsonschema>=3.0->altair<6,>=4.0->streamlit) (23.1.0)\n",
      "Requirement already satisfied: jsonschema-specifications>=2023.03.6 in c:\\users\\shaha\\appdata\\local\\programs\\python\\python312\\lib\\site-packages (from jsonschema>=3.0->altair<6,>=4.0->streamlit) (2023.11.2)\n",
      "Requirement already satisfied: referencing>=0.28.4 in c:\\users\\shaha\\appdata\\local\\programs\\python\\python312\\lib\\site-packages (from jsonschema>=3.0->altair<6,>=4.0->streamlit) (0.32.0)\n",
      "Requirement already satisfied: rpds-py>=0.7.1 in c:\\users\\shaha\\appdata\\local\\programs\\python\\python312\\lib\\site-packages (from jsonschema>=3.0->altair<6,>=4.0->streamlit) (0.13.2)\n",
      "Requirement already satisfied: mdurl~=0.1 in c:\\users\\shaha\\appdata\\local\\programs\\python\\python312\\lib\\site-packages (from markdown-it-py>=2.2.0->rich<14,>=10.14.0->streamlit) (0.1.2)\n"
     ]
    }
   ],
   "source": [
    "pip install streamlit"
   ]
  },
  {
   "cell_type": "code",
   "execution_count": 53,
   "metadata": {
    "colab": {
     "base_uri": "https://localhost:8080/"
    },
    "id": "JyF2I-wNAMGa",
    "outputId": "768c43f2-f46a-4690-e3eb-4b6819d319c8"
   },
   "outputs": [
    {
     "name": "stdout",
     "output_type": "stream",
     "text": [
      "Requirement already satisfied: pyngrok in c:\\users\\shaha\\appdata\\local\\programs\\python\\python312\\lib\\site-packages (7.2.0)\n",
      "Requirement already satisfied: PyYAML>=5.1 in c:\\users\\shaha\\appdata\\local\\programs\\python\\python312\\lib\\site-packages (from pyngrok) (6.0.1)\n"
     ]
    },
    {
     "name": "stderr",
     "output_type": "stream",
     "text": [
      "\n",
      "[notice] A new release of pip is available: 23.2.1 -> 24.2\n",
      "[notice] To update, run: python.exe -m pip install --upgrade pip\n"
     ]
    }
   ],
   "source": [
    "!pip install pyngrok"
   ]
  },
  {
   "cell_type": "code",
   "execution_count": 54,
   "metadata": {
    "id": "FlyU6C3rtOUM"
   },
   "outputs": [],
   "source": [
    "import streamlit as st\n",
    "import pandas as pd\n",
    "import xgboost as xgb\n",
    "import pickle\n",
    "import pyngrok\n",
    "from sklearn.preprocessing import StandardScaler"
   ]
  },
  {
   "cell_type": "code",
   "execution_count": 55,
   "metadata": {
    "id": "NMNJ7aAVppgd"
   },
   "outputs": [],
   "source": [
    "import pickle\n",
    "\n",
    "# Assuming 'final_model' is your trained model\n",
    "model_file = \"xgboost_model.pkl\"\n",
    "\n",
    "# Save the model\n",
    "with open(model_file, 'wb') as file:\n",
    "    pickle.dump(xgb_model, file)\n"
   ]
  },
  {
   "cell_type": "code",
   "execution_count": 56,
   "metadata": {
    "colab": {
     "base_uri": "https://localhost:8080/"
    },
    "id": "LZiTEX2luR4d",
    "outputId": "bceb3c98-453c-4a0b-f56a-c288806e2ae0"
   },
   "outputs": [
    {
     "name": "stdout",
     "output_type": "stream",
     "text": [
      "Writing finalapp2.py\n"
     ]
    }
   ],
   "source": [
    "%%writefile finalapp2.py\n",
    "import streamlit as st                                                                     # -------version 1\n",
    "import pickle\n",
    "import pandas as pd\n",
    "\n",
    "# Load the trained model\n",
    "model_file = \"xgboost_model.pkl\"  # Make sure this file exists\n",
    "with open(model_file, 'rb') as file:\n",
    "    model = pickle.load(file)\n",
    "\n",
    "\n",
    "# Title of the app\n",
    "st.title(\"Track Popularity Prediction\")\n",
    "\n",
    "# Input fields for track metadata\n",
    "st.header(\"Input Track Features\")\n",
    "\n",
    "track_duration = st.number_input(\"Track Duration (in ms)\", min_value=0)\n",
    "track_danceability = st.slider(\"Danceability\", min_value=0.0, max_value=1.0, step=0.01)\n",
    "track_energy = st.slider(\"Energy\", min_value=0.0, max_value=1.0, step=0.01)\n",
    "track_liveness = st.slider(\"Liveness\", min_value=0.0, max_value=1.0, step=0.01)\n",
    "track_acousticness = st.slider(\"Acousticness\", min_value=0.0, max_value=1.0, step=0.01)\n",
    "track_key = st.number_input(\"Key\", min_value=0, max_value=11, step=1)\n",
    "track_loudness = st.number_input(\"Loudness (in dB)\", min_value=-60.0, max_value=0.0)\n",
    "track_mode = st.selectbox(\"Mode\", [0, 1])\n",
    "track_speechiness = st.slider(\"Speechiness\", min_value=0.0, max_value=1.0, step=0.01)\n",
    "track_instrumentalness = st.slider(\"Instrumentalness\", min_value=0.0, max_value=1.0, step=0.01)\n",
    "track_valence = st.slider(\"Valence\", min_value=0.0, max_value=1.0, step=0.01)\n",
    "track_tempo = st.number_input(\"Tempo\", min_value=0.0)\n",
    "track_time_signature = st.selectbox(\"Time Signature\", [3, 4, 5])\n",
    "track_explicit = st.selectbox(\"Explicit\", [0, 1])\n",
    "\n",
    "# Collect user inputs for a few genres (you can extend this to all genres as needed)\n",
    "track_genre_pop = st.selectbox(\"Is Pop Genre?\", [0, 1])\n",
    "track_genre_rock = st.selectbox(\"Is Rock Genre?\", [0, 1])\n",
    "\n",
    "# Create a dictionary with all the genre features, defaulting to 0 (not selected)\n",
    "genres = {\n",
    "    'track_genre_afrobeat': 0,\n",
    "    'track_genre_alt-rock': 0,\n",
    "    'track_genre_alternative': 0,\n",
    "    'track_genre_ambient': 0,\n",
    "    'track_genre_anime': 0,\n",
    "    # Add more genres here ...\n",
    "    'track_genre_pop': track_genre_pop,\n",
    "    'track_genre_rock': track_genre_rock,\n",
    "    # Add the rest of the genre features with default 0s\n",
    "}\n",
    "\n",
    "# Collect the input into a DataFrame\n",
    "input_data = pd.DataFrame({\n",
    "    'duration_ms': [track_duration],\n",
    "    'danceability': [track_danceability],\n",
    "    'energy': [track_energy],\n",
    "    'key': [track_key],\n",
    "    'loudness': [track_loudness],\n",
    "    'mode': [track_mode],\n",
    "    'speechiness': [track_speechiness],\n",
    "    'acousticness': [track_acousticness],\n",
    "    'instrumentalness': [track_instrumentalness],\n",
    "    'liveness': [track_liveness],\n",
    "    'valence': [track_valence],\n",
    "    'tempo': [track_tempo],\n",
    "    'time_signature': [track_time_signature],\n",
    "    'explicit_True': [track_explicit],\n",
    "    **genres  # This includes all the genres with either user input or defaults\n",
    "})\n",
    "\n",
    "# Make predictions when the button is clicked\n",
    "if st.button(\"Predict Popularity\"):\n",
    "    prediction = model.predict(input_data)\n",
    "    st.write(f\"Predicted Popularity: {prediction[0]}\")\n"
   ]
  },
  {
   "cell_type": "code",
   "execution_count": null,
   "metadata": {
    "colab": {
     "base_uri": "https://localhost:8080/",
     "height": 71
    },
    "id": "EBA7iVlijz2t",
    "outputId": "b4314eda-f039-49d3-a34c-8fdb963395e1"
   },
   "outputs": [
    {
     "name": "stderr",
     "output_type": "stream",
     "text": [
      "2024-10-19 13:21:03.207 \n",
      "  \u001b[33m\u001b[1mWarning:\u001b[0m to view this Streamlit app on a browser, run it with the following\n",
      "  command:\n",
      "\n",
      "    streamlit run C:\\Users\\shaha\\AppData\\Local\\Programs\\Python\\Python312\\Lib\\site-packages\\ipykernel_launcher.py [ARGUMENTS]\n"
     ]
    }
   ],
   "source": [
    "import streamlit as st\n",
    "import pickle\n",
    "\n",
    "# Load the pickle file\n",
    "with open('D:\\\\GUVI\\\\Shahanaz - Final Project\\\\xgboost_model.pkl', 'rb') as f:\n",
    "    data = pickle.load(f)\n",
    "\n",
    "# Display the content in Streamlit\n",
    "st.title('Pickle Data in Streamlit')\n",
    "st.write(data)\n",
    "!streamlit run finalapp2.py"
   ]
  },
  {
   "cell_type": "code",
   "execution_count": null,
   "metadata": {},
   "outputs": [],
   "source": []
  },
  {
   "cell_type": "code",
   "execution_count": null,
   "metadata": {},
   "outputs": [],
   "source": []
  },
  {
   "cell_type": "code",
   "execution_count": null,
   "metadata": {},
   "outputs": [],
   "source": []
  },
  {
   "cell_type": "code",
   "execution_count": null,
   "metadata": {},
   "outputs": [],
   "source": []
  },
  {
   "cell_type": "code",
   "execution_count": null,
   "metadata": {},
   "outputs": [],
   "source": []
  },
  {
   "cell_type": "code",
   "execution_count": null,
   "metadata": {},
   "outputs": [],
   "source": []
  },
  {
   "cell_type": "code",
   "execution_count": null,
   "metadata": {},
   "outputs": [],
   "source": []
  },
  {
   "cell_type": "code",
   "execution_count": null,
   "metadata": {},
   "outputs": [],
   "source": []
  },
  {
   "cell_type": "code",
   "execution_count": null,
   "metadata": {},
   "outputs": [],
   "source": []
  },
  {
   "cell_type": "code",
   "execution_count": null,
   "metadata": {},
   "outputs": [],
   "source": []
  },
  {
   "cell_type": "code",
   "execution_count": null,
   "metadata": {},
   "outputs": [],
   "source": []
  },
  {
   "cell_type": "code",
   "execution_count": null,
   "metadata": {},
   "outputs": [],
   "source": []
  },
  {
   "cell_type": "code",
   "execution_count": null,
   "metadata": {},
   "outputs": [],
   "source": []
  },
  {
   "cell_type": "code",
   "execution_count": 52,
   "metadata": {
    "colab": {
     "base_uri": "https://localhost:8080/"
    },
    "id": "RMpfs8cyifvv",
    "outputId": "4a9897bd-bff8-48f4-e1b4-d9a92ed1e311"
   },
   "outputs": [
    {
     "name": "stdout",
     "output_type": "stream",
     "text": [
      "34.125.70.239\n"
     ]
    }
   ],
   "source": [
    "! wget -q -O - ipv4.icanhazip.com"
   ]
  },
  {
   "cell_type": "code",
   "execution_count": 65,
   "metadata": {
    "colab": {
     "base_uri": "https://localhost:8080/"
    },
    "id": "ueS6G4eujzbE",
    "outputId": "5c3b1369-4979-4b44-9c4e-6f500dc2ee8f"
   },
   "outputs": [
    {
     "name": "stdout",
     "output_type": "stream",
     "text": [
      " datafile1.csv\t     finalapp1.py   sample_data\t\t\t xgboostalgo_model.pkl\n",
      " datafile1.parquet   finalapp.py   'xgboostalgo_model (1).pkl'\t xgboost_model.pkl\n"
     ]
    }
   ],
   "source": [
    "!ls\n"
   ]
  },
  {
   "cell_type": "code",
   "execution_count": null,
   "metadata": {
    "colab": {
     "base_uri": "https://localhost:8080/"
    },
    "id": "n0H9VHZ6tntQ",
    "outputId": "52920f2d-f1ec-451e-e844-29e77de17ea6"
   },
   "outputs": [
    {
     "name": "stdout",
     "output_type": "stream",
     "text": [
      "\n",
      "Collecting usage statistics. To deactivate, set browser.gatherUsageStats to false.\n",
      "\u001b[0m\n",
      "\u001b[0m\n",
      "\u001b[34m\u001b[1m  You can now view your Streamlit app in your browser.\u001b[0m\n",
      "\u001b[0m\n",
      "\u001b[34m  Local URL: \u001b[0m\u001b[1mhttp://localhost:8501\u001b[0m\n",
      "\u001b[34m  Network URL: \u001b[0m\u001b[1mhttp://172.28.0.12:8501\u001b[0m\n",
      "\u001b[34m  External URL: \u001b[0m\u001b[1mhttp://34.125.70.239:8501\u001b[0m\n",
      "\u001b[0m\n",
      "your url is: https://four-sides-bake.loca.lt\n",
      "2024-10-11 09:10:39.027 Uncaught app exception\n",
      "Traceback (most recent call last):\n",
      "  File \"/usr/local/lib/python3.10/dist-packages/streamlit/runtime/scriptrunner/exec_code.py\", line 88, in exec_func_with_error_handling\n",
      "    result = func()\n",
      "  File \"/usr/local/lib/python3.10/dist-packages/streamlit/runtime/scriptrunner/script_runner.py\", line 579, in code_to_exec\n",
      "    exec(code, module.__dict__)\n",
      "  File \"/content/finalapp2.py\", line 70, in <module>\n",
      "    prediction = model.predict(input_data)\n",
      "  File \"/usr/local/lib/python3.10/dist-packages/xgboost/sklearn.py\", line 1565, in predict\n",
      "    class_probs = super().predict(\n",
      "  File \"/usr/local/lib/python3.10/dist-packages/xgboost/sklearn.py\", line 1186, in predict\n",
      "    predts = self.get_booster().inplace_predict(\n",
      "  File \"/usr/local/lib/python3.10/dist-packages/xgboost/core.py\", line 2510, in inplace_predict\n",
      "    self._validate_features(fns)\n",
      "  File \"/usr/local/lib/python3.10/dist-packages/xgboost/core.py\", line 3075, in _validate_features\n",
      "    raise ValueError(msg.format(self.feature_names, feature_names))\n",
      "ValueError: feature_names mismatch: ['duration_ms', 'danceability', 'energy', 'key', 'loudness', 'mode', 'speechiness', 'acousticness', 'instrumentalness', 'liveness', 'valence', 'tempo', 'time_signature', 'explicit_True', 'track_genre_afrobeat', 'track_genre_alt-rock', 'track_genre_alternative', 'track_genre_ambient', 'track_genre_anime', 'track_genre_black-metal', 'track_genre_bluegrass', 'track_genre_blues', 'track_genre_brazil', 'track_genre_breakbeat', 'track_genre_british', 'track_genre_cantopop', 'track_genre_chicago-house', 'track_genre_children', 'track_genre_chill', 'track_genre_classical', 'track_genre_club', 'track_genre_comedy', 'track_genre_country', 'track_genre_dance', 'track_genre_dancehall', 'track_genre_death-metal', 'track_genre_deep-house', 'track_genre_detroit-techno', 'track_genre_disco', 'track_genre_disney', 'track_genre_drum-and-bass', 'track_genre_dub', 'track_genre_dubstep', 'track_genre_edm', 'track_genre_electro', 'track_genre_electronic', 'track_genre_emo', 'track_genre_folk', 'track_genre_forro', 'track_genre_french', 'track_genre_funk', 'track_genre_garage', 'track_genre_german', 'track_genre_gospel', 'track_genre_goth', 'track_genre_grindcore', 'track_genre_groove', 'track_genre_grunge', 'track_genre_guitar', 'track_genre_happy', 'track_genre_hard-rock', 'track_genre_hardcore', 'track_genre_hardstyle', 'track_genre_heavy-metal', 'track_genre_hip-hop', 'track_genre_honky-tonk', 'track_genre_house', 'track_genre_idm', 'track_genre_indian', 'track_genre_indie', 'track_genre_indie-pop', 'track_genre_industrial', 'track_genre_iranian', 'track_genre_j-dance', 'track_genre_j-idol', 'track_genre_j-pop', 'track_genre_j-rock', 'track_genre_jazz', 'track_genre_k-pop', 'track_genre_kids', 'track_genre_latin', 'track_genre_latino', 'track_genre_malay', 'track_genre_mandopop', 'track_genre_metal', 'track_genre_metalcore', 'track_genre_minimal-techno', 'track_genre_mpb', 'track_genre_new-age', 'track_genre_opera', 'track_genre_pagode', 'track_genre_party', 'track_genre_piano', 'track_genre_pop', 'track_genre_pop-film', 'track_genre_power-pop', 'track_genre_progressive-house', 'track_genre_psych-rock', 'track_genre_punk', 'track_genre_punk-rock', 'track_genre_r-n-b', 'track_genre_reggae', 'track_genre_reggaeton', 'track_genre_rock', 'track_genre_rock-n-roll', 'track_genre_rockabilly', 'track_genre_romance', 'track_genre_sad', 'track_genre_salsa', 'track_genre_samba', 'track_genre_sertanejo', 'track_genre_show-tunes', 'track_genre_singer-songwriter', 'track_genre_ska', 'track_genre_sleep', 'track_genre_songwriter', 'track_genre_soul', 'track_genre_spanish', 'track_genre_study', 'track_genre_swedish', 'track_genre_synth-pop', 'track_genre_tango', 'track_genre_techno', 'track_genre_trance', 'track_genre_trip-hop', 'track_genre_turkish', 'track_genre_world-music'] ['duration_ms', 'danceability', 'energy', 'key', 'loudness', 'mode', 'speechiness', 'acousticness', 'instrumentalness', 'liveness', 'valence', 'tempo', 'time_signature', 'explicit_True', 'track_genre_afrobeat', 'track_genre_alt-rock', 'track_genre_alternative', 'track_genre_ambient', 'track_genre_anime', 'track_genre_pop', 'track_genre_rock']\n",
      "expected track_genre_sertanejo, track_genre_hardcore, track_genre_mpb, track_genre_hip-hop, track_genre_disney, track_genre_death-metal, track_genre_detroit-techno, track_genre_electro, track_genre_punk, track_genre_iranian, track_genre_dancehall, track_genre_indie-pop, track_genre_salsa, track_genre_soul, track_genre_pop-film, track_genre_metalcore, track_genre_groove, track_genre_indie, track_genre_romance, track_genre_emo, track_genre_idm, track_genre_funk, track_genre_swedish, track_genre_progressive-house, track_genre_german, track_genre_synth-pop, track_genre_children, track_genre_gospel, track_genre_grunge, track_genre_turkish, track_genre_forro, track_genre_folk, track_genre_heavy-metal, track_genre_classical, track_genre_punk-rock, track_genre_dance, track_genre_industrial, track_genre_rockabilly, track_genre_happy, track_genre_minimal-techno, track_genre_psych-rock, track_genre_edm, track_genre_kids, track_genre_study, track_genre_trip-hop, track_genre_malay, track_genre_spanish, track_genre_reggae, track_genre_hard-rock, track_genre_honky-tonk, track_genre_metal, track_genre_bluegrass, track_genre_j-dance, track_genre_r-n-b, track_genre_techno, track_genre_latino, track_genre_mandopop, track_genre_hardstyle, track_genre_disco, track_genre_guitar, track_genre_samba, track_genre_drum-and-bass, track_genre_brazil, track_genre_party, track_genre_show-tunes, track_genre_world-music, track_genre_sleep, track_genre_cantopop, track_genre_k-pop, track_genre_comedy, track_genre_trance, track_genre_rock-n-roll, track_genre_electronic, track_genre_j-rock, track_genre_british, track_genre_club, track_genre_power-pop, track_genre_chill, track_genre_ska, track_genre_piano, track_genre_black-metal, track_genre_indian, track_genre_breakbeat, track_genre_french, track_genre_j-idol, track_genre_goth, track_genre_new-age, track_genre_pagode, track_genre_tango, track_genre_sad, track_genre_latin, track_genre_singer-songwriter, track_genre_jazz, track_genre_country, track_genre_j-pop, track_genre_chicago-house, track_genre_house, track_genre_opera, track_genre_dub, track_genre_deep-house, track_genre_garage, track_genre_grindcore, track_genre_blues, track_genre_dubstep, track_genre_reggaeton, track_genre_songwriter in input data\n"
     ]
    }
   ],
   "source": [
    "!streamlit run finalapp2.py & npx localtunnel --port 8501"
   ]
  },
  {
   "cell_type": "code",
   "execution_count": null,
   "metadata": {
    "id": "pxNbZnx0tnvx"
   },
   "outputs": [],
   "source": []
  },
  {
   "cell_type": "code",
   "execution_count": null,
   "metadata": {
    "id": "9h0KkGrLtn2d"
   },
   "outputs": [],
   "source": []
  }
 ],
 "metadata": {
  "accelerator": "GPU",
  "colab": {
   "gpuType": "T4",
   "provenance": []
  },
  "kernelspec": {
   "display_name": "Python 3 (ipykernel)",
   "language": "python",
   "name": "python3"
  },
  "language_info": {
   "codemirror_mode": {
    "name": "ipython",
    "version": 3
   },
   "file_extension": ".py",
   "mimetype": "text/x-python",
   "name": "python",
   "nbconvert_exporter": "python",
   "pygments_lexer": "ipython3",
   "version": "3.12.1"
  }
 },
 "nbformat": 4,
 "nbformat_minor": 4
}
